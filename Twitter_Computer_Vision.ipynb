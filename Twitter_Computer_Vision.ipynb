{
  "nbformat": 4,
  "nbformat_minor": 0,
  "metadata": {
    "colab": {
      "name": "Twitter Computer Vision.ipynb",
      "provenance": [],
      "authorship_tag": "ABX9TyOOI7flwn0oiLDPyYnoGSY+",
      "include_colab_link": true
    },
    "kernelspec": {
      "name": "python3",
      "display_name": "Python 3"
    },
    "language_info": {
      "name": "python"
    }
  },
  "cells": [
    {
      "cell_type": "markdown",
      "metadata": {
        "id": "view-in-github",
        "colab_type": "text"
      },
      "source": [
        "<a href=\"https://colab.research.google.com/github/ahcamachod/1871-reconocimiento-de-imagenes-twitter-computer-vision/blob/main/Twitter_Computer_Vision.ipynb\" target=\"_parent\"><img src=\"https://colab.research.google.com/assets/colab-badge.svg\" alt=\"Open In Colab\"/></a>"
      ]
    },
    {
      "cell_type": "markdown",
      "source": [
        "# Reconocimiento de Imágenes: API de Twitter y Computer Vision\n",
        "\n",
        "\n",
        "En este notebook se desarrolla un proyecto de integración entre Twitter API, Python y Computer Vision de Azure Cognitive Services para el análisis de imágenes.\n",
        "\n",
        "Recursos utilizados:\n",
        "\n",
        "https://docs.tweepy.org/en/stable/\n",
        "\n",
        "https://docs.microsoft.com/en-us/azure/cognitive-services/computer-vision/\n",
        "\n",
        "https://pypi.org/project/colab-env/\n",
        "\n",
        "\n"
      ],
      "metadata": {
        "id": "idNreBCZ5I2p"
      }
    },
    {
      "cell_type": "code",
      "execution_count": null,
      "metadata": {
        "id": "zdh0vo1A4AyM"
      },
      "outputs": [],
      "source": [
        ""
      ]
    },
    {
      "cell_type": "code",
      "source": [
        ""
      ],
      "metadata": {
        "id": "jS8LovUc6CXc"
      },
      "execution_count": null,
      "outputs": []
    },
    {
      "cell_type": "code",
      "source": [
        ""
      ],
      "metadata": {
        "id": "wLXye6Cc6CPC"
      },
      "execution_count": null,
      "outputs": []
    }
  ]
}