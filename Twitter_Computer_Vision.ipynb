{
  "nbformat": 4,
  "nbformat_minor": 0,
  "metadata": {
    "colab": {
      "name": "Twitter Computer Vision.ipynb",
      "provenance": [],
      "authorship_tag": "ABX9TyPdD6BOGVb0MKT2m+/tNcWS",
      "include_colab_link": true
    },
    "kernelspec": {
      "name": "python3",
      "display_name": "Python 3"
    },
    "language_info": {
      "name": "python"
    }
  },
  "cells": [
    {
      "cell_type": "markdown",
      "metadata": {
        "id": "view-in-github",
        "colab_type": "text"
      },
      "source": [
        "<a href=\"https://colab.research.google.com/github/ahcamachod/1871-reconocimiento-de-imagenes-twitter-computer-vision/blob/aula-4/Twitter_Computer_Vision.ipynb\" target=\"_parent\"><img src=\"https://colab.research.google.com/assets/colab-badge.svg\" alt=\"Open In Colab\"/></a>"
      ]
    },
    {
      "cell_type": "markdown",
      "source": [
        "# Reconocimiento de Imágenes: API de Twitter y Computer Vision\n",
        "\n",
        "\n",
        "En este notebook se desarrolla un proyecto de integración entre Twitter API, Python y Computer Vision de Azure Cognitive Services para el análisis de imágenes.\n",
        "\n",
        "Recursos utilizados:\n",
        "\n",
        "https://docs.tweepy.org/en/stable/\n",
        "\n",
        "https://docs.microsoft.com/en-us/azure/cognitive-services/computer-vision/\n",
        "\n",
        "https://pypi.org/project/colab-env/\n",
        "\n",
        "\n"
      ],
      "metadata": {
        "id": "idNreBCZ5I2p"
      }
    },
    {
      "cell_type": "code",
      "execution_count": 1,
      "metadata": {
        "id": "zdh0vo1A4AyM",
        "colab": {
          "base_uri": "https://localhost:8080/"
        },
        "outputId": "b8d5e733-c3a5-433d-e6c8-ecf214b96322"
      },
      "outputs": [
        {
          "output_type": "stream",
          "name": "stdout",
          "text": [
            "Collecting colab-env\n",
            "  Downloading colab-env-0.2.0.tar.gz (4.7 kB)\n",
            "Collecting python-dotenv<1.0,>=0.10.0\n",
            "  Downloading python_dotenv-0.19.2-py2.py3-none-any.whl (17 kB)\n",
            "Building wheels for collected packages: colab-env\n",
            "  Building wheel for colab-env (setup.py) ... \u001b[?25l\u001b[?25hdone\n",
            "  Created wheel for colab-env: filename=colab_env-0.2.0-py3-none-any.whl size=3838 sha256=b409a384e418474444cb3d4d44fb76605eab45472c9f50053f41d07b742004b1\n",
            "  Stored in directory: /root/.cache/pip/wheels/bb/ca/e8/3d25b6abb4ac719ecb9e837bb75f2a9b980430005fb12a9107\n",
            "Successfully built colab-env\n",
            "Installing collected packages: python-dotenv, colab-env\n",
            "Successfully installed colab-env-0.2.0 python-dotenv-0.19.2\n"
          ]
        }
      ],
      "source": [
        "!pip install colab-env --upgrade"
      ]
    },
    {
      "cell_type": "code",
      "source": [
        "import colab_env\n",
        "import os\n",
        "import tweepy as tw"
      ],
      "metadata": {
        "id": "jS8LovUc6CXc",
        "colab": {
          "base_uri": "https://localhost:8080/"
        },
        "outputId": "7fa02a80-3bda-4b75-fdf2-568d89df5d36"
      },
      "execution_count": 2,
      "outputs": [
        {
          "output_type": "stream",
          "name": "stdout",
          "text": [
            "Mounted at /content/gdrive\n"
          ]
        }
      ]
    },
    {
      "cell_type": "code",
      "source": [
        "colab_env.envvar_handler.add_env(\"clave\",\"1234568795jhzdbjjsgdfjghd\") # Tomar keys y tokens y asignarles los respectivos valores a las variables.\n",
        "clave_prueba = os.getenv(\"clave\")"
      ],
      "metadata": {
        "id": "wLXye6Cc6CPC"
      },
      "execution_count": 3,
      "outputs": []
    },
    {
      "cell_type": "code",
      "source": [
        "print(clave_prueba)"
      ],
      "metadata": {
        "colab": {
          "base_uri": "https://localhost:8080/"
        },
        "id": "EuMQMFeV--0j",
        "outputId": "26c6a2e9-0219-47fb-b277-fe8e6ac21996"
      },
      "execution_count": 4,
      "outputs": [
        {
          "output_type": "stream",
          "name": "stdout",
          "text": [
            "1234568795jhzdbjjsgdfjghd\n"
          ]
        }
      ]
    },
    {
      "cell_type": "code",
      "source": [
        "api_key = os.getenv(\"api_key\")\n",
        "api_secret = os.getenv(\"api_secret\")\n",
        "token_key = os.getenv(\"access_token\")\n",
        "token_key_secret = os.getenv(\"access_token_secret\")"
      ],
      "metadata": {
        "id": "ES6TfRYP_Bjr"
      },
      "execution_count": 5,
      "outputs": []
    },
    {
      "cell_type": "code",
      "source": [
        "auth = tw.OAuthHandler(api_key, api_secret)"
      ],
      "metadata": {
        "id": "SxAP-hdiAG9o"
      },
      "execution_count": 6,
      "outputs": []
    },
    {
      "cell_type": "code",
      "source": [
        "auth.set_access_token(token_key,token_key_secret)"
      ],
      "metadata": {
        "id": "0DgXN9WHAbUY"
      },
      "execution_count": 7,
      "outputs": []
    },
    {
      "cell_type": "code",
      "source": [
        "api = tw.API(auth)"
      ],
      "metadata": {
        "id": "VGZGWfPlA0CB"
      },
      "execution_count": 8,
      "outputs": []
    },
    {
      "cell_type": "code",
      "source": [
        "api.update_status(\"La integración entre Python y Twitter constituye una gran herramienta #Alura #Sumergeteentecnologia\")"
      ],
      "metadata": {
        "colab": {
          "base_uri": "https://localhost:8080/"
        },
        "id": "VGelFw-dA9bz",
        "outputId": "3c8b93cd-53fd-4d99-b0ca-54f543497c70"
      },
      "execution_count": 9,
      "outputs": [
        {
          "output_type": "execute_result",
          "data": {
            "text/plain": [
              "Status(_api=<tweepy.api.API object at 0x7f31b654b750>, _json={'created_at': 'Sat Jan 29 01:53:36 +0000 2022', 'id': 1487242492605087747, 'id_str': '1487242492605087747', 'text': 'La integración entre Python y Twitter constituye una gran herramienta #Alura #Sumergeteentecnologia', 'truncated': False, 'entities': {'hashtags': [{'text': 'Alura', 'indices': [70, 76]}, {'text': 'Sumergeteentecnologia', 'indices': [77, 99]}], 'symbols': [], 'user_mentions': [], 'urls': []}, 'source': '<a href=\"https://github.com/ahcamachod\" rel=\"nofollow\">tpa-ahcd</a>', 'in_reply_to_status_id': None, 'in_reply_to_status_id_str': None, 'in_reply_to_user_id': None, 'in_reply_to_user_id_str': None, 'in_reply_to_screen_name': None, 'user': {'id': 777018151, 'id_str': '777018151', 'name': 'Alvaro Camacho', 'screen_name': 'ahcamachod', 'location': 'São Paulo', 'description': '', 'url': None, 'entities': {'description': {'urls': []}}, 'protected': False, 'followers_count': 218, 'friends_count': 196, 'listed_count': 4, 'created_at': 'Thu Aug 23 23:59:21 +0000 2012', 'favourites_count': 5442, 'utc_offset': None, 'time_zone': None, 'geo_enabled': True, 'verified': False, 'statuses_count': 5490, 'lang': None, 'contributors_enabled': False, 'is_translator': False, 'is_translation_enabled': False, 'profile_background_color': 'C0DEED', 'profile_background_image_url': 'http://abs.twimg.com/images/themes/theme1/bg.png', 'profile_background_image_url_https': 'https://abs.twimg.com/images/themes/theme1/bg.png', 'profile_background_tile': False, 'profile_image_url': 'http://pbs.twimg.com/profile_images/1008411347053367298/j_4MyUhZ_normal.jpg', 'profile_image_url_https': 'https://pbs.twimg.com/profile_images/1008411347053367298/j_4MyUhZ_normal.jpg', 'profile_banner_url': 'https://pbs.twimg.com/profile_banners/777018151/1456172112', 'profile_link_color': '1DA1F2', 'profile_sidebar_border_color': 'C0DEED', 'profile_sidebar_fill_color': 'DDEEF6', 'profile_text_color': '333333', 'profile_use_background_image': True, 'has_extended_profile': True, 'default_profile': True, 'default_profile_image': False, 'following': False, 'follow_request_sent': False, 'notifications': False, 'translator_type': 'none', 'withheld_in_countries': []}, 'geo': None, 'coordinates': None, 'place': None, 'contributors': None, 'is_quote_status': False, 'retweet_count': 0, 'favorite_count': 0, 'favorited': False, 'retweeted': False, 'lang': 'es'}, created_at=datetime.datetime(2022, 1, 29, 1, 53, 36), id=1487242492605087747, id_str='1487242492605087747', text='La integración entre Python y Twitter constituye una gran herramienta #Alura #Sumergeteentecnologia', truncated=False, entities={'hashtags': [{'text': 'Alura', 'indices': [70, 76]}, {'text': 'Sumergeteentecnologia', 'indices': [77, 99]}], 'symbols': [], 'user_mentions': [], 'urls': []}, source='tpa-ahcd', source_url='https://github.com/ahcamachod', in_reply_to_status_id=None, in_reply_to_status_id_str=None, in_reply_to_user_id=None, in_reply_to_user_id_str=None, in_reply_to_screen_name=None, author=User(_api=<tweepy.api.API object at 0x7f31b654b750>, _json={'id': 777018151, 'id_str': '777018151', 'name': 'Alvaro Camacho', 'screen_name': 'ahcamachod', 'location': 'São Paulo', 'description': '', 'url': None, 'entities': {'description': {'urls': []}}, 'protected': False, 'followers_count': 218, 'friends_count': 196, 'listed_count': 4, 'created_at': 'Thu Aug 23 23:59:21 +0000 2012', 'favourites_count': 5442, 'utc_offset': None, 'time_zone': None, 'geo_enabled': True, 'verified': False, 'statuses_count': 5490, 'lang': None, 'contributors_enabled': False, 'is_translator': False, 'is_translation_enabled': False, 'profile_background_color': 'C0DEED', 'profile_background_image_url': 'http://abs.twimg.com/images/themes/theme1/bg.png', 'profile_background_image_url_https': 'https://abs.twimg.com/images/themes/theme1/bg.png', 'profile_background_tile': False, 'profile_image_url': 'http://pbs.twimg.com/profile_images/1008411347053367298/j_4MyUhZ_normal.jpg', 'profile_image_url_https': 'https://pbs.twimg.com/profile_images/1008411347053367298/j_4MyUhZ_normal.jpg', 'profile_banner_url': 'https://pbs.twimg.com/profile_banners/777018151/1456172112', 'profile_link_color': '1DA1F2', 'profile_sidebar_border_color': 'C0DEED', 'profile_sidebar_fill_color': 'DDEEF6', 'profile_text_color': '333333', 'profile_use_background_image': True, 'has_extended_profile': True, 'default_profile': True, 'default_profile_image': False, 'following': False, 'follow_request_sent': False, 'notifications': False, 'translator_type': 'none', 'withheld_in_countries': []}, id=777018151, id_str='777018151', name='Alvaro Camacho', screen_name='ahcamachod', location='São Paulo', description='', url=None, entities={'description': {'urls': []}}, protected=False, followers_count=218, friends_count=196, listed_count=4, created_at=datetime.datetime(2012, 8, 23, 23, 59, 21), favourites_count=5442, utc_offset=None, time_zone=None, geo_enabled=True, verified=False, statuses_count=5490, lang=None, contributors_enabled=False, is_translator=False, is_translation_enabled=False, profile_background_color='C0DEED', profile_background_image_url='http://abs.twimg.com/images/themes/theme1/bg.png', profile_background_image_url_https='https://abs.twimg.com/images/themes/theme1/bg.png', profile_background_tile=False, profile_image_url='http://pbs.twimg.com/profile_images/1008411347053367298/j_4MyUhZ_normal.jpg', profile_image_url_https='https://pbs.twimg.com/profile_images/1008411347053367298/j_4MyUhZ_normal.jpg', profile_banner_url='https://pbs.twimg.com/profile_banners/777018151/1456172112', profile_link_color='1DA1F2', profile_sidebar_border_color='C0DEED', profile_sidebar_fill_color='DDEEF6', profile_text_color='333333', profile_use_background_image=True, has_extended_profile=True, default_profile=True, default_profile_image=False, following=False, follow_request_sent=False, notifications=False, translator_type='none', withheld_in_countries=[]), user=User(_api=<tweepy.api.API object at 0x7f31b654b750>, _json={'id': 777018151, 'id_str': '777018151', 'name': 'Alvaro Camacho', 'screen_name': 'ahcamachod', 'location': 'São Paulo', 'description': '', 'url': None, 'entities': {'description': {'urls': []}}, 'protected': False, 'followers_count': 218, 'friends_count': 196, 'listed_count': 4, 'created_at': 'Thu Aug 23 23:59:21 +0000 2012', 'favourites_count': 5442, 'utc_offset': None, 'time_zone': None, 'geo_enabled': True, 'verified': False, 'statuses_count': 5490, 'lang': None, 'contributors_enabled': False, 'is_translator': False, 'is_translation_enabled': False, 'profile_background_color': 'C0DEED', 'profile_background_image_url': 'http://abs.twimg.com/images/themes/theme1/bg.png', 'profile_background_image_url_https': 'https://abs.twimg.com/images/themes/theme1/bg.png', 'profile_background_tile': False, 'profile_image_url': 'http://pbs.twimg.com/profile_images/1008411347053367298/j_4MyUhZ_normal.jpg', 'profile_image_url_https': 'https://pbs.twimg.com/profile_images/1008411347053367298/j_4MyUhZ_normal.jpg', 'profile_banner_url': 'https://pbs.twimg.com/profile_banners/777018151/1456172112', 'profile_link_color': '1DA1F2', 'profile_sidebar_border_color': 'C0DEED', 'profile_sidebar_fill_color': 'DDEEF6', 'profile_text_color': '333333', 'profile_use_background_image': True, 'has_extended_profile': True, 'default_profile': True, 'default_profile_image': False, 'following': False, 'follow_request_sent': False, 'notifications': False, 'translator_type': 'none', 'withheld_in_countries': []}, id=777018151, id_str='777018151', name='Alvaro Camacho', screen_name='ahcamachod', location='São Paulo', description='', url=None, entities={'description': {'urls': []}}, protected=False, followers_count=218, friends_count=196, listed_count=4, created_at=datetime.datetime(2012, 8, 23, 23, 59, 21), favourites_count=5442, utc_offset=None, time_zone=None, geo_enabled=True, verified=False, statuses_count=5490, lang=None, contributors_enabled=False, is_translator=False, is_translation_enabled=False, profile_background_color='C0DEED', profile_background_image_url='http://abs.twimg.com/images/themes/theme1/bg.png', profile_background_image_url_https='https://abs.twimg.com/images/themes/theme1/bg.png', profile_background_tile=False, profile_image_url='http://pbs.twimg.com/profile_images/1008411347053367298/j_4MyUhZ_normal.jpg', profile_image_url_https='https://pbs.twimg.com/profile_images/1008411347053367298/j_4MyUhZ_normal.jpg', profile_banner_url='https://pbs.twimg.com/profile_banners/777018151/1456172112', profile_link_color='1DA1F2', profile_sidebar_border_color='C0DEED', profile_sidebar_fill_color='DDEEF6', profile_text_color='333333', profile_use_background_image=True, has_extended_profile=True, default_profile=True, default_profile_image=False, following=False, follow_request_sent=False, notifications=False, translator_type='none', withheld_in_countries=[]), geo=None, coordinates=None, place=None, contributors=None, is_quote_status=False, retweet_count=0, favorite_count=0, favorited=False, retweeted=False, lang='es')"
            ]
          },
          "metadata": {},
          "execution_count": 9
        }
      ]
    },
    {
      "cell_type": "code",
      "source": [
        "tweet = api.update_status(\"#Python #Alura #Sumergeteentecnologia\")"
      ],
      "metadata": {
        "id": "P7AWC6wkBpBD"
      },
      "execution_count": 10,
      "outputs": []
    },
    {
      "cell_type": "code",
      "source": [
        "tweet._json"
      ],
      "metadata": {
        "colab": {
          "base_uri": "https://localhost:8080/"
        },
        "id": "b7o6VzHuC7X0",
        "outputId": "2841f98d-8fe2-4330-da4d-b835ea568c7c"
      },
      "execution_count": 11,
      "outputs": [
        {
          "output_type": "execute_result",
          "data": {
            "text/plain": [
              "{'contributors': None,\n",
              " 'coordinates': None,\n",
              " 'created_at': 'Sat Jan 29 01:53:40 +0000 2022',\n",
              " 'entities': {'hashtags': [{'indices': [0, 7], 'text': 'Python'},\n",
              "   {'indices': [8, 14], 'text': 'Alura'},\n",
              "   {'indices': [15, 37], 'text': 'Sumergeteentecnologia'}],\n",
              "  'symbols': [],\n",
              "  'urls': [],\n",
              "  'user_mentions': []},\n",
              " 'favorite_count': 0,\n",
              " 'favorited': False,\n",
              " 'geo': None,\n",
              " 'id': 1487242509004779522,\n",
              " 'id_str': '1487242509004779522',\n",
              " 'in_reply_to_screen_name': None,\n",
              " 'in_reply_to_status_id': None,\n",
              " 'in_reply_to_status_id_str': None,\n",
              " 'in_reply_to_user_id': None,\n",
              " 'in_reply_to_user_id_str': None,\n",
              " 'is_quote_status': False,\n",
              " 'lang': 'und',\n",
              " 'place': None,\n",
              " 'retweet_count': 0,\n",
              " 'retweeted': False,\n",
              " 'source': '<a href=\"https://github.com/ahcamachod\" rel=\"nofollow\">tpa-ahcd</a>',\n",
              " 'text': '#Python #Alura #Sumergeteentecnologia',\n",
              " 'truncated': False,\n",
              " 'user': {'contributors_enabled': False,\n",
              "  'created_at': 'Thu Aug 23 23:59:21 +0000 2012',\n",
              "  'default_profile': True,\n",
              "  'default_profile_image': False,\n",
              "  'description': '',\n",
              "  'entities': {'description': {'urls': []}},\n",
              "  'favourites_count': 5442,\n",
              "  'follow_request_sent': False,\n",
              "  'followers_count': 218,\n",
              "  'following': False,\n",
              "  'friends_count': 196,\n",
              "  'geo_enabled': True,\n",
              "  'has_extended_profile': True,\n",
              "  'id': 777018151,\n",
              "  'id_str': '777018151',\n",
              "  'is_translation_enabled': False,\n",
              "  'is_translator': False,\n",
              "  'lang': None,\n",
              "  'listed_count': 4,\n",
              "  'location': 'São Paulo',\n",
              "  'name': 'Alvaro Camacho',\n",
              "  'notifications': False,\n",
              "  'profile_background_color': 'C0DEED',\n",
              "  'profile_background_image_url': 'http://abs.twimg.com/images/themes/theme1/bg.png',\n",
              "  'profile_background_image_url_https': 'https://abs.twimg.com/images/themes/theme1/bg.png',\n",
              "  'profile_background_tile': False,\n",
              "  'profile_banner_url': 'https://pbs.twimg.com/profile_banners/777018151/1456172112',\n",
              "  'profile_image_url': 'http://pbs.twimg.com/profile_images/1008411347053367298/j_4MyUhZ_normal.jpg',\n",
              "  'profile_image_url_https': 'https://pbs.twimg.com/profile_images/1008411347053367298/j_4MyUhZ_normal.jpg',\n",
              "  'profile_link_color': '1DA1F2',\n",
              "  'profile_sidebar_border_color': 'C0DEED',\n",
              "  'profile_sidebar_fill_color': 'DDEEF6',\n",
              "  'profile_text_color': '333333',\n",
              "  'profile_use_background_image': True,\n",
              "  'protected': False,\n",
              "  'screen_name': 'ahcamachod',\n",
              "  'statuses_count': 5491,\n",
              "  'time_zone': None,\n",
              "  'translator_type': 'none',\n",
              "  'url': None,\n",
              "  'utc_offset': None,\n",
              "  'verified': False,\n",
              "  'withheld_in_countries': []}}"
            ]
          },
          "metadata": {},
          "execution_count": 11
        }
      ]
    },
    {
      "cell_type": "markdown",
      "source": [
        "# 2. Buscando Tweets"
      ],
      "metadata": {
        "id": "1-ydhskKGQrg"
      }
    },
    {
      "cell_type": "code",
      "source": [
        "tweets = tw.Cursor(api.search, q=\"Messi\", since=\"2022-01-01\", lang=\"es\").items(15)"
      ],
      "metadata": {
        "id": "wzi0XEOCHojA"
      },
      "execution_count": 12,
      "outputs": []
    },
    {
      "cell_type": "code",
      "source": [
        "type(tweets)"
      ],
      "metadata": {
        "colab": {
          "base_uri": "https://localhost:8080/"
        },
        "id": "7L-p2CgxI24s",
        "outputId": "53671407-9e25-4575-ad54-ebfef897d5e6"
      },
      "execution_count": 13,
      "outputs": [
        {
          "output_type": "execute_result",
          "data": {
            "text/plain": [
              "tweepy.cursor.ItemIterator"
            ]
          },
          "metadata": {},
          "execution_count": 13
        }
      ]
    },
    {
      "cell_type": "code",
      "source": [
        "for tweet in tweets:\n",
        "  print(tweet.user.screen_name)\n",
        "  print(tweet.user.location)\n",
        "  print(tweet.text)\n",
        "  print(\"------------------\")\n",
        "  print(\"\\n\")\n",
        "  "
      ],
      "metadata": {
        "colab": {
          "base_uri": "https://localhost:8080/"
        },
        "id": "kWkVsrwMI6aV",
        "outputId": "0a35cc88-b287-42e8-c273-d262c2358869"
      },
      "execution_count": 14,
      "outputs": [
        {
          "output_type": "stream",
          "name": "stdout",
          "text": [
            "heesecito\n",
            "\n",
            "@flckrv messi si viste lo k twitteo la cuenta del psg m dió risa\n",
            "------------------\n",
            "\n",
            "\n",
            "wlcayg\n",
            "Santiago. Chile\n",
            "RT @CharlaTactica_: Lionel Messi, Cristiano Ronaldo, Guardiola, Mourinho, Antoine Griezmann, Gabi, Koke y varias personas de futbol definen…\n",
            "------------------\n",
            "\n",
            "\n",
            "DAVIDBRS29\n",
            "granada meta\n",
            "RT @MiyoAmigo: Nunca jamás te metas con Messi https://t.co/BldJdJeVkl\n",
            "------------------\n",
            "\n",
            "\n",
            "dukinoviecito\n",
            "1991\n",
            "@duki_messi lo extraño y me dejo traumas, elegí la opcion q mas te guste\n",
            "------------------\n",
            "\n",
            "\n",
            "JAVelazquez\n",
            "Buenos Aires, Argentina\n",
            "RT @fabipa90: Ganamos sin Messi ni Scaloni y seguimos invictos. https://t.co/ZbT4xrqlUw\n",
            "------------------\n",
            "\n",
            "\n",
            "alexisfarat_\n",
            "\n",
            "RT @MiyoAmigo: Nunca jamás te metas con Messi https://t.co/BldJdJeVkl\n",
            "------------------\n",
            "\n",
            "\n",
            "lisandr_ordonez\n",
            "Córdoba, Argentina\n",
            "RT @ebritos8: la mejor persona del mundo y al lado Messi..nuestro Angel Guillermo https://t.co/quChWXoPaI\n",
            "------------------\n",
            "\n",
            "\n",
            "eIotroyo\n",
            "Toda Sudamérica\n",
            "@Fergnzalez_ @YTFC_ARG @DavooXeneizeJRR Lionel Messi, el último 5\n",
            "------------------\n",
            "\n",
            "\n",
            "ScorzaMaxi\n",
            "Rivadavia, Argentina\n",
            "Después de Messi el mejor que tenemos. Que grande https://t.co/e9vdLOZDnR\n",
            "------------------\n",
            "\n",
            "\n",
            "ArielRotbard\n",
            "Ciudad Autónoma de Buenos Aire\n",
            "@pulka_2 @revedemarseille nosotros no hacíamos goles si no eran de penal en la eliminatoria pasada y teníamos a Mes… https://t.co/Wechuly91I\n",
            "------------------\n",
            "\n",
            "\n",
            "ChejolanLuciano\n",
            "Chaco, Argentina\n",
            "RT @metroadelantado: Harry Potter y el misterio de por qué la familia Messi se sienta en el suelo en vez del sillón. https://t.co/LY7wMDdXXc\n",
            "------------------\n",
            "\n",
            "\n",
            "abielmata\n",
            "San Diego. California\n",
            "RT @jerofreixas: No es Independiente, ni Argentina, ni Messi, pero estoy realmente muy contento por mis Rayados!! Nos vemos en el mundial d…\n",
            "------------------\n",
            "\n",
            "\n",
            "dukinoviecito\n",
            "1991\n",
            "@duki_messi porq esta buenisimo el hijo de puta\n",
            "------------------\n",
            "\n",
            "\n",
            "RolfiDios\n",
            "\n",
            "Messi: “scaloni tiene covid, necesito que alguien nos diriga”\n",
            "\n",
            "De paul:\n",
            " https://t.co/APxI0hBSrd\n",
            "------------------\n",
            "\n",
            "\n",
            "yona_gonzalez\n",
            "\n",
            "RT @metroadelantado: Harry Potter y el misterio de por qué la familia Messi se sienta en el suelo en vez del sillón. https://t.co/LY7wMDdXXc\n",
            "------------------\n",
            "\n",
            "\n"
          ]
        }
      ]
    },
    {
      "cell_type": "code",
      "source": [
        "famosos = ['shakira', 'jlo', '10Ronaldinho', 'neymarjr', 'ivetesangalo','SofiaVergara', 'EugenioDerbez', 'thalia', 'lulopilato',\n",
        "           'diegotorres','montanertwiter','Cristiano','kaka','carlosvives','fonseca','francodevita','gabyespino','AlejandroSanz',\n",
        "           'jamesdrodriguez','davidbisbal','Anahi']"
      ],
      "metadata": {
        "id": "qMD8zOXfOmw4"
      },
      "execution_count": 15,
      "outputs": []
    },
    {
      "cell_type": "code",
      "source": [
        "len(famosos)"
      ],
      "metadata": {
        "colab": {
          "base_uri": "https://localhost:8080/"
        },
        "id": "8-hDi2t9PLVJ",
        "outputId": "5ff58d1c-00df-429a-a514-abd7dba88bc6"
      },
      "execution_count": 16,
      "outputs": [
        {
          "output_type": "execute_result",
          "data": {
            "text/plain": [
              "21"
            ]
          },
          "metadata": {},
          "execution_count": 16
        }
      ]
    },
    {
      "cell_type": "code",
      "source": [
        "for famoso in famosos:\n",
        "  tweets = tw.Cursor(api.search, q=famoso, since=\"2021-10-01\", lang=\"es\").items(20)\n",
        "  print(f\"La celebridad {famoso} y su imagen publicada: \")\n",
        "  for tweet in tweets:\n",
        "    if \"media\" in tweet.entities:\n",
        "      print(tweet.entities[\"media\"][0][\"media_url\"])\n",
        "  print(\"-----------------\")\n",
        "  print(\"\\n\")"
      ],
      "metadata": {
        "colab": {
          "base_uri": "https://localhost:8080/"
        },
        "id": "91SnLN-nPNRt",
        "outputId": "a4e6ac75-78d5-4e44-c169-71079399e1df"
      },
      "execution_count": 17,
      "outputs": [
        {
          "output_type": "stream",
          "name": "stdout",
          "text": [
            "La celebridad shakira y su imagen publicada: \n",
            "http://pbs.twimg.com/media/FKOl4y3XIAQzFg4.jpg\n",
            "http://pbs.twimg.com/tweet_video_thumb/FKNBEKxX0A4BfIU.jpg\n",
            "http://pbs.twimg.com/tweet_video_thumb/FKNBEKxX0A4BfIU.jpg\n",
            "http://pbs.twimg.com/tweet_video_thumb/FKO-g2fUcAAN7ft.jpg\n",
            "http://pbs.twimg.com/media/FJ40Ae3XwAA1bXd.jpg\n",
            "http://pbs.twimg.com/media/FKO-SUKXIAQlzOc.jpg\n",
            "http://pbs.twimg.com/media/FKMZjKaWQAk76El.jpg\n",
            "-----------------\n",
            "\n",
            "\n",
            "La celebridad jlo y su imagen publicada: \n",
            "http://pbs.twimg.com/ext_tw_video_thumb/1353144421466972166/pu/img/yElGx4_xQlVLjs9L.jpg\n",
            "-----------------\n",
            "\n",
            "\n",
            "La celebridad 10Ronaldinho y su imagen publicada: \n",
            "http://pbs.twimg.com/media/FKNagz-WQAY5Twe.png\n",
            "-----------------\n",
            "\n",
            "\n",
            "La celebridad neymarjr y su imagen publicada: \n",
            "http://pbs.twimg.com/media/FKN0_gJXwAoVrxd.jpg\n",
            "http://pbs.twimg.com/media/FKN0_gJXwAoVrxd.jpg\n",
            "http://pbs.twimg.com/media/FKN0_gJXwAoVrxd.jpg\n",
            "http://pbs.twimg.com/media/FKN0_gJXwAoVrxd.jpg\n",
            "http://pbs.twimg.com/media/FKN0_gJXwAoVrxd.jpg\n",
            "-----------------\n",
            "\n",
            "\n",
            "La celebridad ivetesangalo y su imagen publicada: \n",
            "-----------------\n",
            "\n",
            "\n",
            "La celebridad SofiaVergara y su imagen publicada: \n",
            "http://pbs.twimg.com/media/FKIUn7TXIAwl3Pm.jpg\n",
            "-----------------\n",
            "\n",
            "\n",
            "La celebridad EugenioDerbez y su imagen publicada: \n",
            "http://pbs.twimg.com/media/FJV9e-OWUAEN-E2.jpg\n",
            "-----------------\n",
            "\n",
            "\n",
            "La celebridad thalia y su imagen publicada: \n",
            "http://pbs.twimg.com/media/FKNbU3RWQAI3pFD.jpg\n",
            "http://pbs.twimg.com/media/FKNbU3RWQAI3pFD.jpg\n",
            "-----------------\n",
            "\n",
            "\n",
            "La celebridad lulopilato y su imagen publicada: \n",
            "http://pbs.twimg.com/ext_tw_video_thumb/1486836579339493376/pu/img/1rgXmWqbnHr4vEQM.jpg\n",
            "http://pbs.twimg.com/ext_tw_video_thumb/1486823876403380232/pu/img/GdikzF7wRYcIdbgJ.jpg\n",
            "http://pbs.twimg.com/ext_tw_video_thumb/1486836579339493376/pu/img/1rgXmWqbnHr4vEQM.jpg\n",
            "http://pbs.twimg.com/ext_tw_video_thumb/1486836579339493376/pu/img/1rgXmWqbnHr4vEQM.jpg\n",
            "http://pbs.twimg.com/ext_tw_video_thumb/1486836579339493376/pu/img/1rgXmWqbnHr4vEQM.jpg\n",
            "http://pbs.twimg.com/ext_tw_video_thumb/1486836579339493376/pu/img/1rgXmWqbnHr4vEQM.jpg\n",
            "-----------------\n",
            "\n",
            "\n",
            "La celebridad diegotorres y su imagen publicada: \n",
            "http://pbs.twimg.com/media/FKOBRrCXoAc3fsQ.jpg\n",
            "http://pbs.twimg.com/media/FKMM7HMXwAATRWG.jpg\n",
            "-----------------\n",
            "\n",
            "\n",
            "La celebridad montanertwiter y su imagen publicada: \n",
            "-----------------\n",
            "\n",
            "\n",
            "La celebridad Cristiano y su imagen publicada: \n",
            "http://pbs.twimg.com/ext_tw_video_thumb/1487234140697149447/pu/img/0XH6biW9Omt_aOmn.jpg\n",
            "http://pbs.twimg.com/media/FKOPUe4XsAc7PsP.jpg\n",
            "http://pbs.twimg.com/ext_tw_video_thumb/1486944543714934786/pu/img/cOXEczIxbrIy1Gkm.jpg\n",
            "http://pbs.twimg.com/ext_tw_video_thumb/1487242499617955840/pu/img/OjgnkYfia7fUOUYW.jpg\n",
            "http://pbs.twimg.com/media/FKMuct9XwAgbD3l.jpg\n",
            "http://pbs.twimg.com/ext_tw_video_thumb/1487174983721832453/pu/img/kMDFc-S8k33bwGtg.jpg\n",
            "-----------------\n",
            "\n",
            "\n",
            "La celebridad kaka y su imagen publicada: \n",
            "http://pbs.twimg.com/media/FKO9mkHXwAIRS4I.jpg\n",
            "http://pbs.twimg.com/media/FKO9mkHXwAIRS4I.jpg\n",
            "http://pbs.twimg.com/media/FKO9J29VQAEFSVf.jpg\n",
            "-----------------\n",
            "\n",
            "\n",
            "La celebridad carlosvives y su imagen publicada: \n",
            "http://pbs.twimg.com/media/FKDKA94XMAQdk_H.jpg\n",
            "-----------------\n",
            "\n",
            "\n",
            "La celebridad fonseca y su imagen publicada: \n",
            "http://pbs.twimg.com/tweet_video_thumb/FKO88G6XIAMrLTe.jpg\n",
            "http://pbs.twimg.com/media/FKM8WnqXsAEN61g.jpg\n",
            "-----------------\n",
            "\n",
            "\n",
            "La celebridad francodevita y su imagen publicada: \n",
            "http://pbs.twimg.com/ext_tw_video_thumb/1478872661413482496/pu/img/RstGHMGwcvoFYFYC.jpg\n",
            "http://pbs.twimg.com/ext_tw_video_thumb/1354231380159451141/pu/img/zUIKuCYkCaKYGOqm.jpg\n",
            "http://pbs.twimg.com/ext_tw_video_thumb/1478872661413482496/pu/img/RstGHMGwcvoFYFYC.jpg\n",
            "http://pbs.twimg.com/ext_tw_video_thumb/1481780481968463880/pu/img/PeefIX8H_whY_-Rd.jpg\n",
            "http://pbs.twimg.com/ext_tw_video_thumb/1485045594804600834/pu/img/ND4yxdJosn82n3Fx.jpg\n",
            "http://pbs.twimg.com/ext_tw_video_thumb/1481780481968463880/pu/img/PeefIX8H_whY_-Rd.jpg\n",
            "http://pbs.twimg.com/ext_tw_video_thumb/1481780481968463880/pu/img/PeefIX8H_whY_-Rd.jpg\n",
            "http://pbs.twimg.com/ext_tw_video_thumb/1485045594804600834/pu/img/ND4yxdJosn82n3Fx.jpg\n",
            "http://pbs.twimg.com/ext_tw_video_thumb/1481780481968463880/pu/img/PeefIX8H_whY_-Rd.jpg\n",
            "-----------------\n",
            "\n",
            "\n",
            "La celebridad gabyespino y su imagen publicada: \n",
            "http://pbs.twimg.com/ext_tw_video_thumb/1447911515047272451/pu/img/2_yFjjOhdjNE6p8l.jpg\n",
            "http://pbs.twimg.com/ext_tw_video_thumb/1486422082464501764/pu/img/tdOjwU-BffnuZHAq.jpg\n",
            "-----------------\n",
            "\n",
            "\n",
            "La celebridad AlejandroSanz y su imagen publicada: \n",
            "http://pbs.twimg.com/ext_tw_video_thumb/1485717241631064064/pu/img/sCiPT5QNw52BVjiw.jpg\n",
            "http://pbs.twimg.com/media/FKN9BfBXMAggVrN.jpg\n",
            "http://pbs.twimg.com/media/FKMhcNaXMAQhYyP.jpg\n",
            "http://pbs.twimg.com/ext_tw_video_thumb/1485717241631064064/pu/img/sCiPT5QNw52BVjiw.jpg\n",
            "http://pbs.twimg.com/media/FKMhcNaXMAQhYyP.jpg\n",
            "http://pbs.twimg.com/ext_tw_video_thumb/1487239509498601472/pu/img/LI0logeoh6F4DR81.jpg\n",
            "http://pbs.twimg.com/media/FKONt-0X0AM3XoJ.png\n",
            "-----------------\n",
            "\n",
            "\n",
            "La celebridad jamesdrodriguez y su imagen publicada: \n",
            "http://pbs.twimg.com/ext_tw_video_thumb/1487206985057673219/pu/img/HUl_SdKQ6DAzuS_K.jpg\n",
            "-----------------\n",
            "\n",
            "\n",
            "La celebridad davidbisbal y su imagen publicada: \n",
            "http://pbs.twimg.com/ext_tw_video_thumb/1455991410767892486/pu/img/47DR5YENoVYj1lUN.jpg\n",
            "http://pbs.twimg.com/media/FHO7HatXEAIglGM.jpg\n",
            "http://pbs.twimg.com/ext_tw_video_thumb/1479554438008348681/pu/img/5gfEINLcoVbHKe3G.jpg\n",
            "http://pbs.twimg.com/media/FJFGhMnXsAUln5Z.jpg\n",
            "http://pbs.twimg.com/media/FKAo9LpXMAAMUti.jpg\n",
            "-----------------\n",
            "\n",
            "\n",
            "La celebridad Anahi y su imagen publicada: \n",
            "http://pbs.twimg.com/ext_tw_video_thumb/1487240080389464067/pu/img/FJlxw-_I7lJsqTe0.jpg\n",
            "http://pbs.twimg.com/media/FKMcATaWQAAK-RN.jpg\n",
            "http://pbs.twimg.com/media/FKOOOFFXwAQi1LF.jpg\n",
            "http://pbs.twimg.com/media/FKOavKCX0AA9-z6.jpg\n",
            "http://pbs.twimg.com/media/FKOOOFFXwAQi1LF.jpg\n",
            "http://pbs.twimg.com/media/FKOOOFFXwAQi1LF.jpg\n",
            "http://pbs.twimg.com/media/FKOOOFFXwAQi1LF.jpg\n",
            "http://pbs.twimg.com/media/FKOOOFFXwAQi1LF.jpg\n",
            "http://pbs.twimg.com/media/FKOOOFFXwAQi1LF.jpg\n",
            "http://pbs.twimg.com/media/FKOOOFFXwAQi1LF.jpg\n",
            "http://pbs.twimg.com/media/FKOOOFFXwAQi1LF.jpg\n",
            "-----------------\n",
            "\n",
            "\n"
          ]
        }
      ]
    },
    {
      "cell_type": "markdown",
      "source": [
        "# Streaming"
      ],
      "metadata": {
        "id": "SSKURuQvwp5i"
      }
    },
    {
      "cell_type": "code",
      "source": [
        "class MiStreamListener(tw.StreamListener):\n",
        "  def on_status(self, status):\n",
        "    print(status.user.screen_name)\n",
        "    print(status.user.location)\n",
        "    print(status.text)\n",
        "    print(\"------------------\")\n",
        "    print(\"\\n\")"
      ],
      "metadata": {
        "id": "iATpb3EdvpmI"
      },
      "execution_count": 18,
      "outputs": []
    },
    {
      "cell_type": "code",
      "source": [
        "miStream = tw.Stream(auth=auth, listener=MiStreamListener())"
      ],
      "metadata": {
        "id": "l10RlKnxvOBk"
      },
      "execution_count": 19,
      "outputs": []
    },
    {
      "cell_type": "code",
      "source": [
        "miStream.filter(track=famosos, languages=['es'])"
      ],
      "metadata": {
        "colab": {
          "base_uri": "https://localhost:8080/",
          "height": 1000
        },
        "id": "5fb1_8GNvOEN",
        "outputId": "ba90ba90-8bc7-4acd-a8c6-d9ddf3ad1f27"
      },
      "execution_count": 20,
      "outputs": [
        {
          "output_type": "stream",
          "name": "stdout",
          "text": [
            "Marvoilove\n",
            "None\n",
            "@RuPaulsDragRace @JLo @kerricolby @Versace yas 2020 version!\n",
            "------------------\n",
            "\n",
            "\n",
            "johany_03\n",
            "Paraguay\n",
            "RT @WorldShakifans: SHAKIRA: Para amarte…\n",
            "\n",
            "TODOS: https://t.co/oIEFtlKMGa\n",
            "------------------\n",
            "\n",
            "\n",
            "Kevin251216\n",
            "None\n",
            "RT @ShakImpDorado: #TBT Shakira presentando su perfume Love Rock (2015). https://t.co/pk0xp4gIsN\n",
            "------------------\n",
            "\n",
            "\n",
            "josu_mareco\n",
            "Paraguay\n",
            "RT @InvictosSomos: Cristiano Ronaldo con su Globe Soccer Award como el máximo goleador histórico del fútbol. Premio al único jugador que ha…\n",
            "------------------\n",
            "\n",
            "\n",
            "virginsz\n",
            "México\n",
            "RT @mexicanASdeSanz: Lindo Viernes familia...\n",
            "@AlejandroSanz https://t.co/AvTaN64ym5\n",
            "------------------\n",
            "\n",
            "\n",
            "RUBENRO34981225\n",
            "None\n",
            "RT @Blueboy10: Cristiano Ronaldo agradeció en Instagram a todos sus fans por su apoyo. 👏👊 https://t.co/DvIevh8WwW\n",
            "------------------\n",
            "\n",
            "\n",
            "paisalg2\n",
            "Sabaneta, Colombia\n",
            "@SebastianDIM25 @jamesdrodriguez Yo solo ví saltando y avivando a los Peruanos, dormida la afición en el Metropolit… https://t.co/ojmC8YR0M3\n",
            "------------------\n",
            "\n",
            "\n",
            "juandarincon\n",
            "Bogotá, D.C., Colombia\n",
            "@mateo_rosales @cmejia26 @jamesdrodriguez Seguramente. O lo vimos con perspectivas diferentes, de James yo si espero mucho…\n",
            "------------------\n",
            "\n",
            "\n",
            "1016wasabi\n",
            "Genovia\n",
            "dos jlo de la superbowl y no han coincidido en el outfit oh wow\n",
            "#DragRace\n",
            "------------------\n",
            "\n",
            "\n",
            "tonelli_cynthia\n",
            "Buenos Aires, Argentina\n",
            "RT @VienedelAireARG: @AlejandroSanz Estamos siempre en los lugares donde tus notas están, porque siempre estaremos junto ti 🤗🥰🤗🥰🤗🥰🤗\n",
            "------------------\n",
            "\n",
            "\n",
            "Josefer70223949\n",
            "None\n",
            "Así fue la primera cita de Georgina y Cristiano Ronaldo: \"Me tuve que ir\" https://t.co/G99rWkeEPB\n",
            "------------------\n",
            "\n",
            "\n",
            "seho2219\n",
            "Bogotá, D.C., Colombia\n",
            "@AlegandroHoyos @jamesdrodriguez Esto es un comentario mediocre de alguien que quiere likes.\n",
            "------------------\n",
            "\n",
            "\n",
            "Gabuxinita_18\n",
            "None\n",
            "Y la serie ♥️\n",
            "------------------\n",
            "\n",
            "\n",
            "MariaPearandaD1\n",
            "Riohacha, Colombia\n",
            "Omg, ese amor que le tiene Cristiano a Giorginaaaa!😍\n",
            "------------------\n",
            "\n",
            "\n",
            "ivaniton23\n",
            "None\n",
            "RT @AdriRM33: El hijo de Cristiano Ronaldo tiene una foto en su ordenador de Cristiano con la camiseta Del Real Madrid. ♥️ https://t.co/7Ke…\n",
            "------------------\n",
            "\n",
            "\n",
            "virginsz\n",
            "México\n",
            "Tu te desdoblas y me estallas en la cara @AlejandroSanz 🤍✨\n",
            "------------------\n",
            "\n",
            "\n",
            "Ssaandris\n",
            "Villavicencio, colombia\n",
            "RT @drodriguezzfans: James Rodríguez el jugador que más oportunidades de gol creo durante el partido frente Perú (9) #EliminatoriasQatar202…\n",
            "------------------\n",
            "\n",
            "\n",
            "Gonz88655112\n",
            "None\n",
            "RT @ESPN_FDJ: Cristiano y Messi saben aprovechar el parón por la Fecha FIFA 😍😍 https://t.co/Rnu0Tu65bz\n",
            "------------------\n",
            "\n",
            "\n",
            "MINAMI373__fan\n",
            "None\n",
            "RT @Blueboy10: Dusan Vlahovic tiene cómo ídolo a Cristiano Ronaldo y celebra sus goles cómo él. \n",
            "#CR7 https://t.co/Zv8L5lewC4\n",
            "------------------\n",
            "\n",
            "\n",
            "M4RINER4\n",
            "Argentina\n",
            "RT @tamtenenbaum: Yo no entiendo cómo Shakira lo superó a Antonito le llego a escribir Día de enero a alguien y de ese pozo no salgo más\n",
            "------------------\n",
            "\n",
            "\n",
            "loretadlcv\n",
            "None\n",
            "En estos momentos yo la más enamorada de cristiano\n",
            "------------------\n",
            "\n",
            "\n",
            "MalenaS01470319\n",
            "Cúcuta, Colombia\n",
            "@JHONDAVID51 @jamesdrodriguez Degenerado El fué quien lo entrego todo una gaviota no lo hace todo\n",
            "------------------\n",
            "\n",
            "\n",
            "eljcdearcher\n",
            "Col. Del Valle \n",
            "Me acabo de enterar que @LAURAZAPATAM NO — confirmo – no es la mamá de @thalia \n",
            "\n",
            "🤯\n",
            "------------------\n",
            "\n",
            "\n",
            "ythaliano78\n",
            "Guadalajara, Jalisco\n",
            "RT @thalia: BAILA ASÍ ❤️💃🏻VIDEO EXCLUSIVO EN FACEBOOK Estreno este lunes 😍 1/31 a las 6PM EST \n",
            "\n",
            "PONGAN ALARMA 🔔\n",
            "\n",
            "@iambeckyg \n",
            "@Chiquis626 \n",
            "@…\n",
            "------------------\n",
            "\n",
            "\n",
            "gressia329\n",
            "None\n",
            "@ocram Si en Colombia tienen una estatua de Shakira porque no hacerla de Gareca 👌\n",
            "------------------\n",
            "\n",
            "\n"
          ]
        },
        {
          "output_type": "error",
          "ename": "KeyboardInterrupt",
          "evalue": "ignored",
          "traceback": [
            "\u001b[0;31m---------------------------------------------------------------------------\u001b[0m",
            "\u001b[0;31mKeyboardInterrupt\u001b[0m                         Traceback (most recent call last)",
            "\u001b[0;32m<ipython-input-20-8abf5f8db9dc>\u001b[0m in \u001b[0;36m<module>\u001b[0;34m()\u001b[0m\n\u001b[0;32m----> 1\u001b[0;31m \u001b[0mmiStream\u001b[0m\u001b[0;34m.\u001b[0m\u001b[0mfilter\u001b[0m\u001b[0;34m(\u001b[0m\u001b[0mtrack\u001b[0m\u001b[0;34m=\u001b[0m\u001b[0mfamosos\u001b[0m\u001b[0;34m,\u001b[0m \u001b[0mlanguages\u001b[0m\u001b[0;34m=\u001b[0m\u001b[0;34m[\u001b[0m\u001b[0;34m'es'\u001b[0m\u001b[0;34m]\u001b[0m\u001b[0;34m)\u001b[0m\u001b[0;34m\u001b[0m\u001b[0;34m\u001b[0m\u001b[0m\n\u001b[0m",
            "\u001b[0;32m/usr/local/lib/python3.7/dist-packages/tweepy/streaming.py\u001b[0m in \u001b[0;36mfilter\u001b[0;34m(self, follow, track, is_async, locations, stall_warnings, languages, encoding, filter_level)\u001b[0m\n\u001b[1;32m    472\u001b[0m             \u001b[0mself\u001b[0m\u001b[0;34m.\u001b[0m\u001b[0mbody\u001b[0m\u001b[0;34m[\u001b[0m\u001b[0;34m'filter_level'\u001b[0m\u001b[0;34m]\u001b[0m \u001b[0;34m=\u001b[0m \u001b[0mfilter_level\u001b[0m\u001b[0;34m.\u001b[0m\u001b[0mencode\u001b[0m\u001b[0;34m(\u001b[0m\u001b[0mencoding\u001b[0m\u001b[0;34m)\u001b[0m\u001b[0;34m\u001b[0m\u001b[0;34m\u001b[0m\u001b[0m\n\u001b[1;32m    473\u001b[0m         \u001b[0mself\u001b[0m\u001b[0;34m.\u001b[0m\u001b[0msession\u001b[0m\u001b[0;34m.\u001b[0m\u001b[0mparams\u001b[0m \u001b[0;34m=\u001b[0m \u001b[0;34m{\u001b[0m\u001b[0;34m'delimited'\u001b[0m\u001b[0;34m:\u001b[0m \u001b[0;34m'length'\u001b[0m\u001b[0;34m}\u001b[0m\u001b[0;34m\u001b[0m\u001b[0;34m\u001b[0m\u001b[0m\n\u001b[0;32m--> 474\u001b[0;31m         \u001b[0mself\u001b[0m\u001b[0;34m.\u001b[0m\u001b[0m_start\u001b[0m\u001b[0;34m(\u001b[0m\u001b[0mis_async\u001b[0m\u001b[0;34m)\u001b[0m\u001b[0;34m\u001b[0m\u001b[0;34m\u001b[0m\u001b[0m\n\u001b[0m\u001b[1;32m    475\u001b[0m \u001b[0;34m\u001b[0m\u001b[0m\n\u001b[1;32m    476\u001b[0m     def sitestream(self, follow, stall_warnings=False,\n",
            "\u001b[0;32m/usr/local/lib/python3.7/dist-packages/tweepy/streaming.py\u001b[0m in \u001b[0;36m_start\u001b[0;34m(self, is_async)\u001b[0m\n\u001b[1;32m    387\u001b[0m             \u001b[0mself\u001b[0m\u001b[0;34m.\u001b[0m\u001b[0m_thread\u001b[0m\u001b[0;34m.\u001b[0m\u001b[0mstart\u001b[0m\u001b[0;34m(\u001b[0m\u001b[0;34m)\u001b[0m\u001b[0;34m\u001b[0m\u001b[0;34m\u001b[0m\u001b[0m\n\u001b[1;32m    388\u001b[0m         \u001b[0;32melse\u001b[0m\u001b[0;34m:\u001b[0m\u001b[0;34m\u001b[0m\u001b[0;34m\u001b[0m\u001b[0m\n\u001b[0;32m--> 389\u001b[0;31m             \u001b[0mself\u001b[0m\u001b[0;34m.\u001b[0m\u001b[0m_run\u001b[0m\u001b[0;34m(\u001b[0m\u001b[0;34m)\u001b[0m\u001b[0;34m\u001b[0m\u001b[0;34m\u001b[0m\u001b[0m\n\u001b[0m\u001b[1;32m    390\u001b[0m \u001b[0;34m\u001b[0m\u001b[0m\n\u001b[1;32m    391\u001b[0m     \u001b[0;32mdef\u001b[0m \u001b[0mon_closed\u001b[0m\u001b[0;34m(\u001b[0m\u001b[0mself\u001b[0m\u001b[0;34m,\u001b[0m \u001b[0mresp\u001b[0m\u001b[0;34m)\u001b[0m\u001b[0;34m:\u001b[0m\u001b[0;34m\u001b[0m\u001b[0;34m\u001b[0m\u001b[0m\n",
            "\u001b[0;32m/usr/local/lib/python3.7/dist-packages/tweepy/streaming.py\u001b[0m in \u001b[0;36m_run\u001b[0;34m(self)\u001b[0m\n\u001b[1;32m    287\u001b[0m                     \u001b[0mself\u001b[0m\u001b[0;34m.\u001b[0m\u001b[0msnooze_time\u001b[0m \u001b[0;34m=\u001b[0m \u001b[0mself\u001b[0m\u001b[0;34m.\u001b[0m\u001b[0msnooze_time_step\u001b[0m\u001b[0;34m\u001b[0m\u001b[0;34m\u001b[0m\u001b[0m\n\u001b[1;32m    288\u001b[0m                     \u001b[0mself\u001b[0m\u001b[0;34m.\u001b[0m\u001b[0mlistener\u001b[0m\u001b[0;34m.\u001b[0m\u001b[0mon_connect\u001b[0m\u001b[0;34m(\u001b[0m\u001b[0;34m)\u001b[0m\u001b[0;34m\u001b[0m\u001b[0;34m\u001b[0m\u001b[0m\n\u001b[0;32m--> 289\u001b[0;31m                     \u001b[0mself\u001b[0m\u001b[0;34m.\u001b[0m\u001b[0m_read_loop\u001b[0m\u001b[0;34m(\u001b[0m\u001b[0mresp\u001b[0m\u001b[0;34m)\u001b[0m\u001b[0;34m\u001b[0m\u001b[0;34m\u001b[0m\u001b[0m\n\u001b[0m\u001b[1;32m    290\u001b[0m             \u001b[0;32mexcept\u001b[0m \u001b[0;34m(\u001b[0m\u001b[0mTimeout\u001b[0m\u001b[0;34m,\u001b[0m \u001b[0mssl\u001b[0m\u001b[0;34m.\u001b[0m\u001b[0mSSLError\u001b[0m\u001b[0;34m)\u001b[0m \u001b[0;32mas\u001b[0m \u001b[0mexc\u001b[0m\u001b[0;34m:\u001b[0m\u001b[0;34m\u001b[0m\u001b[0;34m\u001b[0m\u001b[0m\n\u001b[1;32m    291\u001b[0m                 \u001b[0;31m# This is still necessary, as a SSLError can actually be\u001b[0m\u001b[0;34m\u001b[0m\u001b[0;34m\u001b[0m\u001b[0;34m\u001b[0m\u001b[0m\n",
            "\u001b[0;32m/usr/local/lib/python3.7/dist-packages/tweepy/streaming.py\u001b[0m in \u001b[0;36m_read_loop\u001b[0;34m(self, resp)\u001b[0m\n\u001b[1;32m    337\u001b[0m             \u001b[0mlength\u001b[0m \u001b[0;34m=\u001b[0m \u001b[0;36m0\u001b[0m\u001b[0;34m\u001b[0m\u001b[0;34m\u001b[0m\u001b[0m\n\u001b[1;32m    338\u001b[0m             \u001b[0;32mwhile\u001b[0m \u001b[0;32mnot\u001b[0m \u001b[0mresp\u001b[0m\u001b[0;34m.\u001b[0m\u001b[0mraw\u001b[0m\u001b[0;34m.\u001b[0m\u001b[0mclosed\u001b[0m\u001b[0;34m:\u001b[0m\u001b[0;34m\u001b[0m\u001b[0;34m\u001b[0m\u001b[0m\n\u001b[0;32m--> 339\u001b[0;31m                 \u001b[0mline\u001b[0m \u001b[0;34m=\u001b[0m \u001b[0mbuf\u001b[0m\u001b[0;34m.\u001b[0m\u001b[0mread_line\u001b[0m\u001b[0;34m(\u001b[0m\u001b[0;34m)\u001b[0m\u001b[0;34m\u001b[0m\u001b[0;34m\u001b[0m\u001b[0m\n\u001b[0m\u001b[1;32m    340\u001b[0m                 \u001b[0mstripped_line\u001b[0m \u001b[0;34m=\u001b[0m \u001b[0mline\u001b[0m\u001b[0;34m.\u001b[0m\u001b[0mstrip\u001b[0m\u001b[0;34m(\u001b[0m\u001b[0;34m)\u001b[0m \u001b[0;32mif\u001b[0m \u001b[0mline\u001b[0m \u001b[0;32melse\u001b[0m \u001b[0mline\u001b[0m \u001b[0;31m# line is sometimes None so we need to check here\u001b[0m\u001b[0;34m\u001b[0m\u001b[0;34m\u001b[0m\u001b[0m\n\u001b[1;32m    341\u001b[0m                 \u001b[0;32mif\u001b[0m \u001b[0;32mnot\u001b[0m \u001b[0mstripped_line\u001b[0m\u001b[0;34m:\u001b[0m\u001b[0;34m\u001b[0m\u001b[0;34m\u001b[0m\u001b[0m\n",
            "\u001b[0;32m/usr/local/lib/python3.7/dist-packages/tweepy/streaming.py\u001b[0m in \u001b[0;36mread_line\u001b[0;34m(self, sep)\u001b[0m\n\u001b[1;32m    198\u001b[0m             \u001b[0;32melse\u001b[0m\u001b[0;34m:\u001b[0m\u001b[0;34m\u001b[0m\u001b[0;34m\u001b[0m\u001b[0m\n\u001b[1;32m    199\u001b[0m                 \u001b[0mstart\u001b[0m \u001b[0;34m=\u001b[0m \u001b[0mlen\u001b[0m\u001b[0;34m(\u001b[0m\u001b[0mself\u001b[0m\u001b[0;34m.\u001b[0m\u001b[0m_buffer\u001b[0m\u001b[0;34m)\u001b[0m\u001b[0;34m\u001b[0m\u001b[0;34m\u001b[0m\u001b[0m\n\u001b[0;32m--> 200\u001b[0;31m             \u001b[0mself\u001b[0m\u001b[0;34m.\u001b[0m\u001b[0m_buffer\u001b[0m \u001b[0;34m+=\u001b[0m \u001b[0mself\u001b[0m\u001b[0;34m.\u001b[0m\u001b[0m_stream\u001b[0m\u001b[0;34m.\u001b[0m\u001b[0mread\u001b[0m\u001b[0;34m(\u001b[0m\u001b[0mself\u001b[0m\u001b[0;34m.\u001b[0m\u001b[0m_chunk_size\u001b[0m\u001b[0;34m)\u001b[0m\u001b[0;34m\u001b[0m\u001b[0;34m\u001b[0m\u001b[0m\n\u001b[0m\u001b[1;32m    201\u001b[0m         \u001b[0;32mreturn\u001b[0m \u001b[0msix\u001b[0m\u001b[0;34m.\u001b[0m\u001b[0mb\u001b[0m\u001b[0;34m(\u001b[0m\u001b[0;34m''\u001b[0m\u001b[0;34m)\u001b[0m\u001b[0;34m\u001b[0m\u001b[0;34m\u001b[0m\u001b[0m\n\u001b[1;32m    202\u001b[0m \u001b[0;34m\u001b[0m\u001b[0m\n",
            "\u001b[0;32m/usr/local/lib/python3.7/dist-packages/urllib3/response.py\u001b[0m in \u001b[0;36mread\u001b[0;34m(self, amt, decode_content, cache_content)\u001b[0m\n\u001b[1;32m    442\u001b[0m             \u001b[0;32melse\u001b[0m\u001b[0;34m:\u001b[0m\u001b[0;34m\u001b[0m\u001b[0;34m\u001b[0m\u001b[0m\n\u001b[1;32m    443\u001b[0m                 \u001b[0mcache_content\u001b[0m \u001b[0;34m=\u001b[0m \u001b[0;32mFalse\u001b[0m\u001b[0;34m\u001b[0m\u001b[0;34m\u001b[0m\u001b[0m\n\u001b[0;32m--> 444\u001b[0;31m                 \u001b[0mdata\u001b[0m \u001b[0;34m=\u001b[0m \u001b[0mself\u001b[0m\u001b[0;34m.\u001b[0m\u001b[0m_fp\u001b[0m\u001b[0;34m.\u001b[0m\u001b[0mread\u001b[0m\u001b[0;34m(\u001b[0m\u001b[0mamt\u001b[0m\u001b[0;34m)\u001b[0m\u001b[0;34m\u001b[0m\u001b[0;34m\u001b[0m\u001b[0m\n\u001b[0m\u001b[1;32m    445\u001b[0m                 \u001b[0;32mif\u001b[0m \u001b[0mamt\u001b[0m \u001b[0;34m!=\u001b[0m \u001b[0;36m0\u001b[0m \u001b[0;32mand\u001b[0m \u001b[0;32mnot\u001b[0m \u001b[0mdata\u001b[0m\u001b[0;34m:\u001b[0m  \u001b[0;31m# Platform-specific: Buggy versions of Python.\u001b[0m\u001b[0;34m\u001b[0m\u001b[0;34m\u001b[0m\u001b[0m\n\u001b[1;32m    446\u001b[0m                     \u001b[0;31m# Close the connection when no data is returned\u001b[0m\u001b[0;34m\u001b[0m\u001b[0;34m\u001b[0m\u001b[0;34m\u001b[0m\u001b[0m\n",
            "\u001b[0;32m/usr/lib/python3.7/http/client.py\u001b[0m in \u001b[0;36mread\u001b[0;34m(self, amt)\u001b[0m\n\u001b[1;32m    463\u001b[0m             \u001b[0;31m# Amount is given, implement using readinto\u001b[0m\u001b[0;34m\u001b[0m\u001b[0;34m\u001b[0m\u001b[0;34m\u001b[0m\u001b[0m\n\u001b[1;32m    464\u001b[0m             \u001b[0mb\u001b[0m \u001b[0;34m=\u001b[0m \u001b[0mbytearray\u001b[0m\u001b[0;34m(\u001b[0m\u001b[0mamt\u001b[0m\u001b[0;34m)\u001b[0m\u001b[0;34m\u001b[0m\u001b[0;34m\u001b[0m\u001b[0m\n\u001b[0;32m--> 465\u001b[0;31m             \u001b[0mn\u001b[0m \u001b[0;34m=\u001b[0m \u001b[0mself\u001b[0m\u001b[0;34m.\u001b[0m\u001b[0mreadinto\u001b[0m\u001b[0;34m(\u001b[0m\u001b[0mb\u001b[0m\u001b[0;34m)\u001b[0m\u001b[0;34m\u001b[0m\u001b[0;34m\u001b[0m\u001b[0m\n\u001b[0m\u001b[1;32m    466\u001b[0m             \u001b[0;32mreturn\u001b[0m \u001b[0mmemoryview\u001b[0m\u001b[0;34m(\u001b[0m\u001b[0mb\u001b[0m\u001b[0;34m)\u001b[0m\u001b[0;34m[\u001b[0m\u001b[0;34m:\u001b[0m\u001b[0mn\u001b[0m\u001b[0;34m]\u001b[0m\u001b[0;34m.\u001b[0m\u001b[0mtobytes\u001b[0m\u001b[0;34m(\u001b[0m\u001b[0;34m)\u001b[0m\u001b[0;34m\u001b[0m\u001b[0;34m\u001b[0m\u001b[0m\n\u001b[1;32m    467\u001b[0m         \u001b[0;32melse\u001b[0m\u001b[0;34m:\u001b[0m\u001b[0;34m\u001b[0m\u001b[0;34m\u001b[0m\u001b[0m\n",
            "\u001b[0;32m/usr/lib/python3.7/http/client.py\u001b[0m in \u001b[0;36mreadinto\u001b[0;34m(self, b)\u001b[0m\n\u001b[1;32m    497\u001b[0m \u001b[0;34m\u001b[0m\u001b[0m\n\u001b[1;32m    498\u001b[0m         \u001b[0;32mif\u001b[0m \u001b[0mself\u001b[0m\u001b[0;34m.\u001b[0m\u001b[0mchunked\u001b[0m\u001b[0;34m:\u001b[0m\u001b[0;34m\u001b[0m\u001b[0;34m\u001b[0m\u001b[0m\n\u001b[0;32m--> 499\u001b[0;31m             \u001b[0;32mreturn\u001b[0m \u001b[0mself\u001b[0m\u001b[0;34m.\u001b[0m\u001b[0m_readinto_chunked\u001b[0m\u001b[0;34m(\u001b[0m\u001b[0mb\u001b[0m\u001b[0;34m)\u001b[0m\u001b[0;34m\u001b[0m\u001b[0;34m\u001b[0m\u001b[0m\n\u001b[0m\u001b[1;32m    500\u001b[0m \u001b[0;34m\u001b[0m\u001b[0m\n\u001b[1;32m    501\u001b[0m         \u001b[0;32mif\u001b[0m \u001b[0mself\u001b[0m\u001b[0;34m.\u001b[0m\u001b[0mlength\u001b[0m \u001b[0;32mis\u001b[0m \u001b[0;32mnot\u001b[0m \u001b[0;32mNone\u001b[0m\u001b[0;34m:\u001b[0m\u001b[0;34m\u001b[0m\u001b[0;34m\u001b[0m\u001b[0m\n",
            "\u001b[0;32m/usr/lib/python3.7/http/client.py\u001b[0m in \u001b[0;36m_readinto_chunked\u001b[0;34m(self, b)\u001b[0m\n\u001b[1;32m    592\u001b[0m         \u001b[0;32mtry\u001b[0m\u001b[0;34m:\u001b[0m\u001b[0;34m\u001b[0m\u001b[0;34m\u001b[0m\u001b[0m\n\u001b[1;32m    593\u001b[0m             \u001b[0;32mwhile\u001b[0m \u001b[0;32mTrue\u001b[0m\u001b[0;34m:\u001b[0m\u001b[0;34m\u001b[0m\u001b[0;34m\u001b[0m\u001b[0m\n\u001b[0;32m--> 594\u001b[0;31m                 \u001b[0mchunk_left\u001b[0m \u001b[0;34m=\u001b[0m \u001b[0mself\u001b[0m\u001b[0;34m.\u001b[0m\u001b[0m_get_chunk_left\u001b[0m\u001b[0;34m(\u001b[0m\u001b[0;34m)\u001b[0m\u001b[0;34m\u001b[0m\u001b[0;34m\u001b[0m\u001b[0m\n\u001b[0m\u001b[1;32m    595\u001b[0m                 \u001b[0;32mif\u001b[0m \u001b[0mchunk_left\u001b[0m \u001b[0;32mis\u001b[0m \u001b[0;32mNone\u001b[0m\u001b[0;34m:\u001b[0m\u001b[0;34m\u001b[0m\u001b[0;34m\u001b[0m\u001b[0m\n\u001b[1;32m    596\u001b[0m                     \u001b[0;32mreturn\u001b[0m \u001b[0mtotal_bytes\u001b[0m\u001b[0;34m\u001b[0m\u001b[0;34m\u001b[0m\u001b[0m\n",
            "\u001b[0;32m/usr/lib/python3.7/http/client.py\u001b[0m in \u001b[0;36m_get_chunk_left\u001b[0;34m(self)\u001b[0m\n\u001b[1;32m    560\u001b[0m                 \u001b[0mself\u001b[0m\u001b[0;34m.\u001b[0m\u001b[0m_safe_read\u001b[0m\u001b[0;34m(\u001b[0m\u001b[0;36m2\u001b[0m\u001b[0;34m)\u001b[0m  \u001b[0;31m# toss the CRLF at the end of the chunk\u001b[0m\u001b[0;34m\u001b[0m\u001b[0;34m\u001b[0m\u001b[0m\n\u001b[1;32m    561\u001b[0m             \u001b[0;32mtry\u001b[0m\u001b[0;34m:\u001b[0m\u001b[0;34m\u001b[0m\u001b[0;34m\u001b[0m\u001b[0m\n\u001b[0;32m--> 562\u001b[0;31m                 \u001b[0mchunk_left\u001b[0m \u001b[0;34m=\u001b[0m \u001b[0mself\u001b[0m\u001b[0;34m.\u001b[0m\u001b[0m_read_next_chunk_size\u001b[0m\u001b[0;34m(\u001b[0m\u001b[0;34m)\u001b[0m\u001b[0;34m\u001b[0m\u001b[0;34m\u001b[0m\u001b[0m\n\u001b[0m\u001b[1;32m    563\u001b[0m             \u001b[0;32mexcept\u001b[0m \u001b[0mValueError\u001b[0m\u001b[0;34m:\u001b[0m\u001b[0;34m\u001b[0m\u001b[0;34m\u001b[0m\u001b[0m\n\u001b[1;32m    564\u001b[0m                 \u001b[0;32mraise\u001b[0m \u001b[0mIncompleteRead\u001b[0m\u001b[0;34m(\u001b[0m\u001b[0;34mb''\u001b[0m\u001b[0;34m)\u001b[0m\u001b[0;34m\u001b[0m\u001b[0;34m\u001b[0m\u001b[0m\n",
            "\u001b[0;32m/usr/lib/python3.7/http/client.py\u001b[0m in \u001b[0;36m_read_next_chunk_size\u001b[0;34m(self)\u001b[0m\n\u001b[1;32m    520\u001b[0m     \u001b[0;32mdef\u001b[0m \u001b[0m_read_next_chunk_size\u001b[0m\u001b[0;34m(\u001b[0m\u001b[0mself\u001b[0m\u001b[0;34m)\u001b[0m\u001b[0;34m:\u001b[0m\u001b[0;34m\u001b[0m\u001b[0;34m\u001b[0m\u001b[0m\n\u001b[1;32m    521\u001b[0m         \u001b[0;31m# Read the next chunk size from the file\u001b[0m\u001b[0;34m\u001b[0m\u001b[0;34m\u001b[0m\u001b[0;34m\u001b[0m\u001b[0m\n\u001b[0;32m--> 522\u001b[0;31m         \u001b[0mline\u001b[0m \u001b[0;34m=\u001b[0m \u001b[0mself\u001b[0m\u001b[0;34m.\u001b[0m\u001b[0mfp\u001b[0m\u001b[0;34m.\u001b[0m\u001b[0mreadline\u001b[0m\u001b[0;34m(\u001b[0m\u001b[0m_MAXLINE\u001b[0m \u001b[0;34m+\u001b[0m \u001b[0;36m1\u001b[0m\u001b[0;34m)\u001b[0m\u001b[0;34m\u001b[0m\u001b[0;34m\u001b[0m\u001b[0m\n\u001b[0m\u001b[1;32m    523\u001b[0m         \u001b[0;32mif\u001b[0m \u001b[0mlen\u001b[0m\u001b[0;34m(\u001b[0m\u001b[0mline\u001b[0m\u001b[0;34m)\u001b[0m \u001b[0;34m>\u001b[0m \u001b[0m_MAXLINE\u001b[0m\u001b[0;34m:\u001b[0m\u001b[0;34m\u001b[0m\u001b[0;34m\u001b[0m\u001b[0m\n\u001b[1;32m    524\u001b[0m             \u001b[0;32mraise\u001b[0m \u001b[0mLineTooLong\u001b[0m\u001b[0;34m(\u001b[0m\u001b[0;34m\"chunk size\"\u001b[0m\u001b[0;34m)\u001b[0m\u001b[0;34m\u001b[0m\u001b[0;34m\u001b[0m\u001b[0m\n",
            "\u001b[0;32m/usr/lib/python3.7/socket.py\u001b[0m in \u001b[0;36mreadinto\u001b[0;34m(self, b)\u001b[0m\n\u001b[1;32m    587\u001b[0m         \u001b[0;32mwhile\u001b[0m \u001b[0;32mTrue\u001b[0m\u001b[0;34m:\u001b[0m\u001b[0;34m\u001b[0m\u001b[0;34m\u001b[0m\u001b[0m\n\u001b[1;32m    588\u001b[0m             \u001b[0;32mtry\u001b[0m\u001b[0;34m:\u001b[0m\u001b[0;34m\u001b[0m\u001b[0;34m\u001b[0m\u001b[0m\n\u001b[0;32m--> 589\u001b[0;31m                 \u001b[0;32mreturn\u001b[0m \u001b[0mself\u001b[0m\u001b[0;34m.\u001b[0m\u001b[0m_sock\u001b[0m\u001b[0;34m.\u001b[0m\u001b[0mrecv_into\u001b[0m\u001b[0;34m(\u001b[0m\u001b[0mb\u001b[0m\u001b[0;34m)\u001b[0m\u001b[0;34m\u001b[0m\u001b[0;34m\u001b[0m\u001b[0m\n\u001b[0m\u001b[1;32m    590\u001b[0m             \u001b[0;32mexcept\u001b[0m \u001b[0mtimeout\u001b[0m\u001b[0;34m:\u001b[0m\u001b[0;34m\u001b[0m\u001b[0;34m\u001b[0m\u001b[0m\n\u001b[1;32m    591\u001b[0m                 \u001b[0mself\u001b[0m\u001b[0;34m.\u001b[0m\u001b[0m_timeout_occurred\u001b[0m \u001b[0;34m=\u001b[0m \u001b[0;32mTrue\u001b[0m\u001b[0;34m\u001b[0m\u001b[0;34m\u001b[0m\u001b[0m\n",
            "\u001b[0;32m/usr/lib/python3.7/ssl.py\u001b[0m in \u001b[0;36mrecv_into\u001b[0;34m(self, buffer, nbytes, flags)\u001b[0m\n\u001b[1;32m   1069\u001b[0m                   \u001b[0;34m\"non-zero flags not allowed in calls to recv_into() on %s\"\u001b[0m \u001b[0;34m%\u001b[0m\u001b[0;34m\u001b[0m\u001b[0;34m\u001b[0m\u001b[0m\n\u001b[1;32m   1070\u001b[0m                   self.__class__)\n\u001b[0;32m-> 1071\u001b[0;31m             \u001b[0;32mreturn\u001b[0m \u001b[0mself\u001b[0m\u001b[0;34m.\u001b[0m\u001b[0mread\u001b[0m\u001b[0;34m(\u001b[0m\u001b[0mnbytes\u001b[0m\u001b[0;34m,\u001b[0m \u001b[0mbuffer\u001b[0m\u001b[0;34m)\u001b[0m\u001b[0;34m\u001b[0m\u001b[0;34m\u001b[0m\u001b[0m\n\u001b[0m\u001b[1;32m   1072\u001b[0m         \u001b[0;32melse\u001b[0m\u001b[0;34m:\u001b[0m\u001b[0;34m\u001b[0m\u001b[0;34m\u001b[0m\u001b[0m\n\u001b[1;32m   1073\u001b[0m             \u001b[0;32mreturn\u001b[0m \u001b[0msuper\u001b[0m\u001b[0;34m(\u001b[0m\u001b[0;34m)\u001b[0m\u001b[0;34m.\u001b[0m\u001b[0mrecv_into\u001b[0m\u001b[0;34m(\u001b[0m\u001b[0mbuffer\u001b[0m\u001b[0;34m,\u001b[0m \u001b[0mnbytes\u001b[0m\u001b[0;34m,\u001b[0m \u001b[0mflags\u001b[0m\u001b[0;34m)\u001b[0m\u001b[0;34m\u001b[0m\u001b[0;34m\u001b[0m\u001b[0m\n",
            "\u001b[0;32m/usr/lib/python3.7/ssl.py\u001b[0m in \u001b[0;36mread\u001b[0;34m(self, len, buffer)\u001b[0m\n\u001b[1;32m    927\u001b[0m         \u001b[0;32mtry\u001b[0m\u001b[0;34m:\u001b[0m\u001b[0;34m\u001b[0m\u001b[0;34m\u001b[0m\u001b[0m\n\u001b[1;32m    928\u001b[0m             \u001b[0;32mif\u001b[0m \u001b[0mbuffer\u001b[0m \u001b[0;32mis\u001b[0m \u001b[0;32mnot\u001b[0m \u001b[0;32mNone\u001b[0m\u001b[0;34m:\u001b[0m\u001b[0;34m\u001b[0m\u001b[0;34m\u001b[0m\u001b[0m\n\u001b[0;32m--> 929\u001b[0;31m                 \u001b[0;32mreturn\u001b[0m \u001b[0mself\u001b[0m\u001b[0;34m.\u001b[0m\u001b[0m_sslobj\u001b[0m\u001b[0;34m.\u001b[0m\u001b[0mread\u001b[0m\u001b[0;34m(\u001b[0m\u001b[0mlen\u001b[0m\u001b[0;34m,\u001b[0m \u001b[0mbuffer\u001b[0m\u001b[0;34m)\u001b[0m\u001b[0;34m\u001b[0m\u001b[0;34m\u001b[0m\u001b[0m\n\u001b[0m\u001b[1;32m    930\u001b[0m             \u001b[0;32melse\u001b[0m\u001b[0;34m:\u001b[0m\u001b[0;34m\u001b[0m\u001b[0;34m\u001b[0m\u001b[0m\n\u001b[1;32m    931\u001b[0m                 \u001b[0;32mreturn\u001b[0m \u001b[0mself\u001b[0m\u001b[0;34m.\u001b[0m\u001b[0m_sslobj\u001b[0m\u001b[0;34m.\u001b[0m\u001b[0mread\u001b[0m\u001b[0;34m(\u001b[0m\u001b[0mlen\u001b[0m\u001b[0;34m)\u001b[0m\u001b[0;34m\u001b[0m\u001b[0;34m\u001b[0m\u001b[0m\n",
            "\u001b[0;31mKeyboardInterrupt\u001b[0m: "
          ]
        }
      ]
    },
    {
      "cell_type": "markdown",
      "source": [
        "# Computer Vision de Azure "
      ],
      "metadata": {
        "id": "PI6-3--m9olt"
      }
    },
    {
      "cell_type": "code",
      "source": [
        "!pip install azure-cognitiveservices-vision-computervision"
      ],
      "metadata": {
        "colab": {
          "base_uri": "https://localhost:8080/"
        },
        "id": "cJSaZawkbkCs",
        "outputId": "7dc817f4-5433-40ed-b16e-81eb6c3d2e6e"
      },
      "execution_count": 21,
      "outputs": [
        {
          "output_type": "stream",
          "name": "stdout",
          "text": [
            "Collecting azure-cognitiveservices-vision-computervision\n",
            "  Downloading azure_cognitiveservices_vision_computervision-0.9.0-py2.py3-none-any.whl (39 kB)\n",
            "Collecting msrest>=0.5.0\n",
            "  Downloading msrest-0.6.21-py2.py3-none-any.whl (85 kB)\n",
            "\u001b[K     |████████████████████████████████| 85 kB 2.4 MB/s \n",
            "\u001b[?25hCollecting azure-common~=1.1\n",
            "  Downloading azure_common-1.1.27-py2.py3-none-any.whl (12 kB)\n",
            "Requirement already satisfied: requests~=2.16 in /usr/local/lib/python3.7/dist-packages (from msrest>=0.5.0->azure-cognitiveservices-vision-computervision) (2.23.0)\n",
            "Collecting isodate>=0.6.0\n",
            "  Downloading isodate-0.6.1-py2.py3-none-any.whl (41 kB)\n",
            "\u001b[K     |████████████████████████████████| 41 kB 445 kB/s \n",
            "\u001b[?25hRequirement already satisfied: certifi>=2017.4.17 in /usr/local/lib/python3.7/dist-packages (from msrest>=0.5.0->azure-cognitiveservices-vision-computervision) (2021.10.8)\n",
            "Requirement already satisfied: requests-oauthlib>=0.5.0 in /usr/local/lib/python3.7/dist-packages (from msrest>=0.5.0->azure-cognitiveservices-vision-computervision) (1.3.0)\n",
            "Requirement already satisfied: six in /usr/local/lib/python3.7/dist-packages (from isodate>=0.6.0->msrest>=0.5.0->azure-cognitiveservices-vision-computervision) (1.15.0)\n",
            "Requirement already satisfied: urllib3!=1.25.0,!=1.25.1,<1.26,>=1.21.1 in /usr/local/lib/python3.7/dist-packages (from requests~=2.16->msrest>=0.5.0->azure-cognitiveservices-vision-computervision) (1.24.3)\n",
            "Requirement already satisfied: chardet<4,>=3.0.2 in /usr/local/lib/python3.7/dist-packages (from requests~=2.16->msrest>=0.5.0->azure-cognitiveservices-vision-computervision) (3.0.4)\n",
            "Requirement already satisfied: idna<3,>=2.5 in /usr/local/lib/python3.7/dist-packages (from requests~=2.16->msrest>=0.5.0->azure-cognitiveservices-vision-computervision) (2.10)\n",
            "Requirement already satisfied: oauthlib>=3.0.0 in /usr/local/lib/python3.7/dist-packages (from requests-oauthlib>=0.5.0->msrest>=0.5.0->azure-cognitiveservices-vision-computervision) (3.1.1)\n",
            "Installing collected packages: isodate, msrest, azure-common, azure-cognitiveservices-vision-computervision\n",
            "Successfully installed azure-cognitiveservices-vision-computervision-0.9.0 azure-common-1.1.27 isodate-0.6.1 msrest-0.6.21\n"
          ]
        }
      ]
    },
    {
      "cell_type": "code",
      "source": [
        "from azure.cognitiveservices.vision.computervision import ComputerVisionClient"
      ],
      "metadata": {
        "id": "pJ6OqnCLXavz"
      },
      "execution_count": 22,
      "outputs": []
    },
    {
      "cell_type": "code",
      "source": [
        "from msrest.authentication import CognitiveServicesCredentials"
      ],
      "metadata": {
        "id": "wFezoVtlyDtq"
      },
      "execution_count": 23,
      "outputs": []
    },
    {
      "cell_type": "code",
      "source": [
        "credenciales = CognitiveServicesCredentials(os.getenv(\"acs_key\"))"
      ],
      "metadata": {
        "id": "X6JFXZBv6Vml"
      },
      "execution_count": 24,
      "outputs": []
    },
    {
      "cell_type": "code",
      "source": [
        "cliente = ComputerVisionClient(\"https://ahcd-api-acs.cognitiveservices.azure.com/\", credenciales)"
      ],
      "metadata": {
        "id": "sHWoEoTe6Wqp"
      },
      "execution_count": 25,
      "outputs": []
    },
    {
      "cell_type": "code",
      "source": [
        "cliente.api_version"
      ],
      "metadata": {
        "colab": {
          "base_uri": "https://localhost:8080/",
          "height": 35
        },
        "id": "FDATo7q16Ws7",
        "outputId": "46e7d63b-2394-4776-e638-1c7a40d86afc"
      },
      "execution_count": 26,
      "outputs": [
        {
          "output_type": "execute_result",
          "data": {
            "application/vnd.google.colaboratory.intrinsic+json": {
              "type": "string"
            },
            "text/plain": [
              "'3.2'"
            ]
          },
          "metadata": {},
          "execution_count": 26
        }
      ]
    },
    {
      "cell_type": "code",
      "source": [
        ""
      ],
      "metadata": {
        "id": "ufv9HhbI9-SC"
      },
      "execution_count": null,
      "outputs": []
    }
  ]
}