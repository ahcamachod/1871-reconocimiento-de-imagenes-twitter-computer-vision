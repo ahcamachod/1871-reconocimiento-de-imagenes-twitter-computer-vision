{
  "nbformat": 4,
  "nbformat_minor": 0,
  "metadata": {
    "colab": {
      "name": "Twitter Computer Vision.ipynb",
      "provenance": [],
      "authorship_tag": "ABX9TyPd7BbiSnnZ9typiuqvZEQB",
      "include_colab_link": true
    },
    "kernelspec": {
      "name": "python3",
      "display_name": "Python 3"
    },
    "language_info": {
      "name": "python"
    }
  },
  "cells": [
    {
      "cell_type": "markdown",
      "metadata": {
        "id": "view-in-github",
        "colab_type": "text"
      },
      "source": [
        "<a href=\"https://colab.research.google.com/github/ahcamachod/1871-reconocimiento-de-imagenes-twitter-computer-vision/blob/aula-2/Twitter_Computer_Vision.ipynb\" target=\"_parent\"><img src=\"https://colab.research.google.com/assets/colab-badge.svg\" alt=\"Open In Colab\"/></a>"
      ]
    },
    {
      "cell_type": "markdown",
      "source": [
        "# Reconocimiento de Imágenes: API de Twitter y Computer Vision\n",
        "\n",
        "\n",
        "En este notebook se desarrolla un proyecto de integración entre Twitter API, Python y Computer Vision de Azure Cognitive Services para el análisis de imágenes.\n",
        "\n",
        "Recursos utilizados:\n",
        "\n",
        "https://docs.tweepy.org/en/stable/\n",
        "\n",
        "https://docs.microsoft.com/en-us/azure/cognitive-services/computer-vision/\n",
        "\n",
        "https://pypi.org/project/colab-env/\n",
        "\n",
        "\n"
      ],
      "metadata": {
        "id": "idNreBCZ5I2p"
      }
    },
    {
      "cell_type": "code",
      "execution_count": 1,
      "metadata": {
        "id": "zdh0vo1A4AyM",
        "colab": {
          "base_uri": "https://localhost:8080/"
        },
        "outputId": "b8d5e733-c3a5-433d-e6c8-ecf214b96322"
      },
      "outputs": [
        {
          "output_type": "stream",
          "name": "stdout",
          "text": [
            "Collecting colab-env\n",
            "  Downloading colab-env-0.2.0.tar.gz (4.7 kB)\n",
            "Collecting python-dotenv<1.0,>=0.10.0\n",
            "  Downloading python_dotenv-0.19.2-py2.py3-none-any.whl (17 kB)\n",
            "Building wheels for collected packages: colab-env\n",
            "  Building wheel for colab-env (setup.py) ... \u001b[?25l\u001b[?25hdone\n",
            "  Created wheel for colab-env: filename=colab_env-0.2.0-py3-none-any.whl size=3838 sha256=b409a384e418474444cb3d4d44fb76605eab45472c9f50053f41d07b742004b1\n",
            "  Stored in directory: /root/.cache/pip/wheels/bb/ca/e8/3d25b6abb4ac719ecb9e837bb75f2a9b980430005fb12a9107\n",
            "Successfully built colab-env\n",
            "Installing collected packages: python-dotenv, colab-env\n",
            "Successfully installed colab-env-0.2.0 python-dotenv-0.19.2\n"
          ]
        }
      ],
      "source": [
        "!pip install colab-env --upgrade"
      ]
    },
    {
      "cell_type": "code",
      "source": [
        "import colab_env\n",
        "import os\n",
        "import tweepy as tw"
      ],
      "metadata": {
        "id": "jS8LovUc6CXc",
        "colab": {
          "base_uri": "https://localhost:8080/"
        },
        "outputId": "7fa02a80-3bda-4b75-fdf2-568d89df5d36"
      },
      "execution_count": 2,
      "outputs": [
        {
          "output_type": "stream",
          "name": "stdout",
          "text": [
            "Mounted at /content/gdrive\n"
          ]
        }
      ]
    },
    {
      "cell_type": "code",
      "source": [
        "colab_env.envvar_handler.add_env(\"clave\",\"1234568795jhzdbjjsgdfjghd\") # Tomar keys y tokens y asignarles los respectivos valores a las variables.\n",
        "clave_prueba = os.getenv(\"clave\")"
      ],
      "metadata": {
        "id": "wLXye6Cc6CPC"
      },
      "execution_count": 3,
      "outputs": []
    },
    {
      "cell_type": "code",
      "source": [
        "print(clave_prueba)"
      ],
      "metadata": {
        "colab": {
          "base_uri": "https://localhost:8080/"
        },
        "id": "EuMQMFeV--0j",
        "outputId": "26c6a2e9-0219-47fb-b277-fe8e6ac21996"
      },
      "execution_count": 4,
      "outputs": [
        {
          "output_type": "stream",
          "name": "stdout",
          "text": [
            "1234568795jhzdbjjsgdfjghd\n"
          ]
        }
      ]
    },
    {
      "cell_type": "code",
      "source": [
        "api_key = os.getenv(\"api_key\")\n",
        "api_secret = os.getenv(\"api_secret\")\n",
        "token_key = os.getenv(\"access_token\")\n",
        "token_key_secret = os.getenv(\"access_token_secret\")"
      ],
      "metadata": {
        "id": "ES6TfRYP_Bjr"
      },
      "execution_count": 5,
      "outputs": []
    },
    {
      "cell_type": "code",
      "source": [
        "auth = tw.OAuthHandler(api_key, api_secret)"
      ],
      "metadata": {
        "id": "SxAP-hdiAG9o"
      },
      "execution_count": 6,
      "outputs": []
    },
    {
      "cell_type": "code",
      "source": [
        "auth.set_access_token(token_key,token_key_secret)"
      ],
      "metadata": {
        "id": "0DgXN9WHAbUY"
      },
      "execution_count": 7,
      "outputs": []
    },
    {
      "cell_type": "code",
      "source": [
        "api = tw.API(auth)"
      ],
      "metadata": {
        "id": "VGZGWfPlA0CB"
      },
      "execution_count": 8,
      "outputs": []
    },
    {
      "cell_type": "code",
      "source": [
        "api.update_status(\"La integración entre Python y Twitter constituye una gran herramienta #Alura #Sumergeteentecnologia\")"
      ],
      "metadata": {
        "colab": {
          "base_uri": "https://localhost:8080/"
        },
        "id": "VGelFw-dA9bz",
        "outputId": "3c8b93cd-53fd-4d99-b0ca-54f543497c70"
      },
      "execution_count": 9,
      "outputs": [
        {
          "output_type": "execute_result",
          "data": {
            "text/plain": [
              "Status(_api=<tweepy.api.API object at 0x7f31b654b750>, _json={'created_at': 'Sat Jan 29 01:53:36 +0000 2022', 'id': 1487242492605087747, 'id_str': '1487242492605087747', 'text': 'La integración entre Python y Twitter constituye una gran herramienta #Alura #Sumergeteentecnologia', 'truncated': False, 'entities': {'hashtags': [{'text': 'Alura', 'indices': [70, 76]}, {'text': 'Sumergeteentecnologia', 'indices': [77, 99]}], 'symbols': [], 'user_mentions': [], 'urls': []}, 'source': '<a href=\"https://github.com/ahcamachod\" rel=\"nofollow\">tpa-ahcd</a>', 'in_reply_to_status_id': None, 'in_reply_to_status_id_str': None, 'in_reply_to_user_id': None, 'in_reply_to_user_id_str': None, 'in_reply_to_screen_name': None, 'user': {'id': 777018151, 'id_str': '777018151', 'name': 'Alvaro Camacho', 'screen_name': 'ahcamachod', 'location': 'São Paulo', 'description': '', 'url': None, 'entities': {'description': {'urls': []}}, 'protected': False, 'followers_count': 218, 'friends_count': 196, 'listed_count': 4, 'created_at': 'Thu Aug 23 23:59:21 +0000 2012', 'favourites_count': 5442, 'utc_offset': None, 'time_zone': None, 'geo_enabled': True, 'verified': False, 'statuses_count': 5490, 'lang': None, 'contributors_enabled': False, 'is_translator': False, 'is_translation_enabled': False, 'profile_background_color': 'C0DEED', 'profile_background_image_url': 'http://abs.twimg.com/images/themes/theme1/bg.png', 'profile_background_image_url_https': 'https://abs.twimg.com/images/themes/theme1/bg.png', 'profile_background_tile': False, 'profile_image_url': 'http://pbs.twimg.com/profile_images/1008411347053367298/j_4MyUhZ_normal.jpg', 'profile_image_url_https': 'https://pbs.twimg.com/profile_images/1008411347053367298/j_4MyUhZ_normal.jpg', 'profile_banner_url': 'https://pbs.twimg.com/profile_banners/777018151/1456172112', 'profile_link_color': '1DA1F2', 'profile_sidebar_border_color': 'C0DEED', 'profile_sidebar_fill_color': 'DDEEF6', 'profile_text_color': '333333', 'profile_use_background_image': True, 'has_extended_profile': True, 'default_profile': True, 'default_profile_image': False, 'following': False, 'follow_request_sent': False, 'notifications': False, 'translator_type': 'none', 'withheld_in_countries': []}, 'geo': None, 'coordinates': None, 'place': None, 'contributors': None, 'is_quote_status': False, 'retweet_count': 0, 'favorite_count': 0, 'favorited': False, 'retweeted': False, 'lang': 'es'}, created_at=datetime.datetime(2022, 1, 29, 1, 53, 36), id=1487242492605087747, id_str='1487242492605087747', text='La integración entre Python y Twitter constituye una gran herramienta #Alura #Sumergeteentecnologia', truncated=False, entities={'hashtags': [{'text': 'Alura', 'indices': [70, 76]}, {'text': 'Sumergeteentecnologia', 'indices': [77, 99]}], 'symbols': [], 'user_mentions': [], 'urls': []}, source='tpa-ahcd', source_url='https://github.com/ahcamachod', in_reply_to_status_id=None, in_reply_to_status_id_str=None, in_reply_to_user_id=None, in_reply_to_user_id_str=None, in_reply_to_screen_name=None, author=User(_api=<tweepy.api.API object at 0x7f31b654b750>, _json={'id': 777018151, 'id_str': '777018151', 'name': 'Alvaro Camacho', 'screen_name': 'ahcamachod', 'location': 'São Paulo', 'description': '', 'url': None, 'entities': {'description': {'urls': []}}, 'protected': False, 'followers_count': 218, 'friends_count': 196, 'listed_count': 4, 'created_at': 'Thu Aug 23 23:59:21 +0000 2012', 'favourites_count': 5442, 'utc_offset': None, 'time_zone': None, 'geo_enabled': True, 'verified': False, 'statuses_count': 5490, 'lang': None, 'contributors_enabled': False, 'is_translator': False, 'is_translation_enabled': False, 'profile_background_color': 'C0DEED', 'profile_background_image_url': 'http://abs.twimg.com/images/themes/theme1/bg.png', 'profile_background_image_url_https': 'https://abs.twimg.com/images/themes/theme1/bg.png', 'profile_background_tile': False, 'profile_image_url': 'http://pbs.twimg.com/profile_images/1008411347053367298/j_4MyUhZ_normal.jpg', 'profile_image_url_https': 'https://pbs.twimg.com/profile_images/1008411347053367298/j_4MyUhZ_normal.jpg', 'profile_banner_url': 'https://pbs.twimg.com/profile_banners/777018151/1456172112', 'profile_link_color': '1DA1F2', 'profile_sidebar_border_color': 'C0DEED', 'profile_sidebar_fill_color': 'DDEEF6', 'profile_text_color': '333333', 'profile_use_background_image': True, 'has_extended_profile': True, 'default_profile': True, 'default_profile_image': False, 'following': False, 'follow_request_sent': False, 'notifications': False, 'translator_type': 'none', 'withheld_in_countries': []}, id=777018151, id_str='777018151', name='Alvaro Camacho', screen_name='ahcamachod', location='São Paulo', description='', url=None, entities={'description': {'urls': []}}, protected=False, followers_count=218, friends_count=196, listed_count=4, created_at=datetime.datetime(2012, 8, 23, 23, 59, 21), favourites_count=5442, utc_offset=None, time_zone=None, geo_enabled=True, verified=False, statuses_count=5490, lang=None, contributors_enabled=False, is_translator=False, is_translation_enabled=False, profile_background_color='C0DEED', profile_background_image_url='http://abs.twimg.com/images/themes/theme1/bg.png', profile_background_image_url_https='https://abs.twimg.com/images/themes/theme1/bg.png', profile_background_tile=False, profile_image_url='http://pbs.twimg.com/profile_images/1008411347053367298/j_4MyUhZ_normal.jpg', profile_image_url_https='https://pbs.twimg.com/profile_images/1008411347053367298/j_4MyUhZ_normal.jpg', profile_banner_url='https://pbs.twimg.com/profile_banners/777018151/1456172112', profile_link_color='1DA1F2', profile_sidebar_border_color='C0DEED', profile_sidebar_fill_color='DDEEF6', profile_text_color='333333', profile_use_background_image=True, has_extended_profile=True, default_profile=True, default_profile_image=False, following=False, follow_request_sent=False, notifications=False, translator_type='none', withheld_in_countries=[]), user=User(_api=<tweepy.api.API object at 0x7f31b654b750>, _json={'id': 777018151, 'id_str': '777018151', 'name': 'Alvaro Camacho', 'screen_name': 'ahcamachod', 'location': 'São Paulo', 'description': '', 'url': None, 'entities': {'description': {'urls': []}}, 'protected': False, 'followers_count': 218, 'friends_count': 196, 'listed_count': 4, 'created_at': 'Thu Aug 23 23:59:21 +0000 2012', 'favourites_count': 5442, 'utc_offset': None, 'time_zone': None, 'geo_enabled': True, 'verified': False, 'statuses_count': 5490, 'lang': None, 'contributors_enabled': False, 'is_translator': False, 'is_translation_enabled': False, 'profile_background_color': 'C0DEED', 'profile_background_image_url': 'http://abs.twimg.com/images/themes/theme1/bg.png', 'profile_background_image_url_https': 'https://abs.twimg.com/images/themes/theme1/bg.png', 'profile_background_tile': False, 'profile_image_url': 'http://pbs.twimg.com/profile_images/1008411347053367298/j_4MyUhZ_normal.jpg', 'profile_image_url_https': 'https://pbs.twimg.com/profile_images/1008411347053367298/j_4MyUhZ_normal.jpg', 'profile_banner_url': 'https://pbs.twimg.com/profile_banners/777018151/1456172112', 'profile_link_color': '1DA1F2', 'profile_sidebar_border_color': 'C0DEED', 'profile_sidebar_fill_color': 'DDEEF6', 'profile_text_color': '333333', 'profile_use_background_image': True, 'has_extended_profile': True, 'default_profile': True, 'default_profile_image': False, 'following': False, 'follow_request_sent': False, 'notifications': False, 'translator_type': 'none', 'withheld_in_countries': []}, id=777018151, id_str='777018151', name='Alvaro Camacho', screen_name='ahcamachod', location='São Paulo', description='', url=None, entities={'description': {'urls': []}}, protected=False, followers_count=218, friends_count=196, listed_count=4, created_at=datetime.datetime(2012, 8, 23, 23, 59, 21), favourites_count=5442, utc_offset=None, time_zone=None, geo_enabled=True, verified=False, statuses_count=5490, lang=None, contributors_enabled=False, is_translator=False, is_translation_enabled=False, profile_background_color='C0DEED', profile_background_image_url='http://abs.twimg.com/images/themes/theme1/bg.png', profile_background_image_url_https='https://abs.twimg.com/images/themes/theme1/bg.png', profile_background_tile=False, profile_image_url='http://pbs.twimg.com/profile_images/1008411347053367298/j_4MyUhZ_normal.jpg', profile_image_url_https='https://pbs.twimg.com/profile_images/1008411347053367298/j_4MyUhZ_normal.jpg', profile_banner_url='https://pbs.twimg.com/profile_banners/777018151/1456172112', profile_link_color='1DA1F2', profile_sidebar_border_color='C0DEED', profile_sidebar_fill_color='DDEEF6', profile_text_color='333333', profile_use_background_image=True, has_extended_profile=True, default_profile=True, default_profile_image=False, following=False, follow_request_sent=False, notifications=False, translator_type='none', withheld_in_countries=[]), geo=None, coordinates=None, place=None, contributors=None, is_quote_status=False, retweet_count=0, favorite_count=0, favorited=False, retweeted=False, lang='es')"
            ]
          },
          "metadata": {},
          "execution_count": 9
        }
      ]
    },
    {
      "cell_type": "code",
      "source": [
        "tweet = api.update_status(\"#Python #Alura #Sumergeteentecnologia\")"
      ],
      "metadata": {
        "id": "P7AWC6wkBpBD"
      },
      "execution_count": 10,
      "outputs": []
    },
    {
      "cell_type": "code",
      "source": [
        "tweet._json"
      ],
      "metadata": {
        "colab": {
          "base_uri": "https://localhost:8080/"
        },
        "id": "b7o6VzHuC7X0",
        "outputId": "2841f98d-8fe2-4330-da4d-b835ea568c7c"
      },
      "execution_count": 11,
      "outputs": [
        {
          "output_type": "execute_result",
          "data": {
            "text/plain": [
              "{'contributors': None,\n",
              " 'coordinates': None,\n",
              " 'created_at': 'Sat Jan 29 01:53:40 +0000 2022',\n",
              " 'entities': {'hashtags': [{'indices': [0, 7], 'text': 'Python'},\n",
              "   {'indices': [8, 14], 'text': 'Alura'},\n",
              "   {'indices': [15, 37], 'text': 'Sumergeteentecnologia'}],\n",
              "  'symbols': [],\n",
              "  'urls': [],\n",
              "  'user_mentions': []},\n",
              " 'favorite_count': 0,\n",
              " 'favorited': False,\n",
              " 'geo': None,\n",
              " 'id': 1487242509004779522,\n",
              " 'id_str': '1487242509004779522',\n",
              " 'in_reply_to_screen_name': None,\n",
              " 'in_reply_to_status_id': None,\n",
              " 'in_reply_to_status_id_str': None,\n",
              " 'in_reply_to_user_id': None,\n",
              " 'in_reply_to_user_id_str': None,\n",
              " 'is_quote_status': False,\n",
              " 'lang': 'und',\n",
              " 'place': None,\n",
              " 'retweet_count': 0,\n",
              " 'retweeted': False,\n",
              " 'source': '<a href=\"https://github.com/ahcamachod\" rel=\"nofollow\">tpa-ahcd</a>',\n",
              " 'text': '#Python #Alura #Sumergeteentecnologia',\n",
              " 'truncated': False,\n",
              " 'user': {'contributors_enabled': False,\n",
              "  'created_at': 'Thu Aug 23 23:59:21 +0000 2012',\n",
              "  'default_profile': True,\n",
              "  'default_profile_image': False,\n",
              "  'description': '',\n",
              "  'entities': {'description': {'urls': []}},\n",
              "  'favourites_count': 5442,\n",
              "  'follow_request_sent': False,\n",
              "  'followers_count': 218,\n",
              "  'following': False,\n",
              "  'friends_count': 196,\n",
              "  'geo_enabled': True,\n",
              "  'has_extended_profile': True,\n",
              "  'id': 777018151,\n",
              "  'id_str': '777018151',\n",
              "  'is_translation_enabled': False,\n",
              "  'is_translator': False,\n",
              "  'lang': None,\n",
              "  'listed_count': 4,\n",
              "  'location': 'São Paulo',\n",
              "  'name': 'Alvaro Camacho',\n",
              "  'notifications': False,\n",
              "  'profile_background_color': 'C0DEED',\n",
              "  'profile_background_image_url': 'http://abs.twimg.com/images/themes/theme1/bg.png',\n",
              "  'profile_background_image_url_https': 'https://abs.twimg.com/images/themes/theme1/bg.png',\n",
              "  'profile_background_tile': False,\n",
              "  'profile_banner_url': 'https://pbs.twimg.com/profile_banners/777018151/1456172112',\n",
              "  'profile_image_url': 'http://pbs.twimg.com/profile_images/1008411347053367298/j_4MyUhZ_normal.jpg',\n",
              "  'profile_image_url_https': 'https://pbs.twimg.com/profile_images/1008411347053367298/j_4MyUhZ_normal.jpg',\n",
              "  'profile_link_color': '1DA1F2',\n",
              "  'profile_sidebar_border_color': 'C0DEED',\n",
              "  'profile_sidebar_fill_color': 'DDEEF6',\n",
              "  'profile_text_color': '333333',\n",
              "  'profile_use_background_image': True,\n",
              "  'protected': False,\n",
              "  'screen_name': 'ahcamachod',\n",
              "  'statuses_count': 5491,\n",
              "  'time_zone': None,\n",
              "  'translator_type': 'none',\n",
              "  'url': None,\n",
              "  'utc_offset': None,\n",
              "  'verified': False,\n",
              "  'withheld_in_countries': []}}"
            ]
          },
          "metadata": {},
          "execution_count": 11
        }
      ]
    },
    {
      "cell_type": "code",
      "source": [
        ""
      ],
      "metadata": {
        "id": "ufv9HhbI9-SC"
      },
      "execution_count": null,
      "outputs": []
    }
  ]
}